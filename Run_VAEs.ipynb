{
 "cells": [
  {
   "cell_type": "code",
   "execution_count": 3,
   "id": "df57118a-c5fc-4557-a234-cfad575bc9f1",
   "metadata": {},
   "outputs": [
    {
     "data": {
      "text/plain": [
       "'1.18.1'"
      ]
     },
     "execution_count": 3,
     "metadata": {},
     "output_type": "execute_result"
    }
   ],
   "source": [
    "np.__version__"
   ]
  },
  {
   "cell_type": "code",
   "execution_count": 8,
   "id": "813d5bd5-e44d-4dcd-96d8-3559e17172dc",
   "metadata": {},
   "outputs": [
    {
     "name": "stdout",
     "output_type": "stream",
     "text": [
      "/usr/lib/python3/dist-packages/secretstorage/dhcrypto.py:15: CryptographyDeprecationWarning: int_from_bytes is deprecated, use int.from_bytes instead\n",
      "  from cryptography.utils import int_from_bytes\n",
      "/usr/lib/python3/dist-packages/secretstorage/util.py:19: CryptographyDeprecationWarning: int_from_bytes is deprecated, use int.from_bytes instead\n",
      "  from cryptography.utils import int_from_bytes\n",
      "Defaulting to user installation because normal site-packages is not writeable\n",
      "Requirement already satisfied: cmake in ./.local/lib/python3.6/site-packages (3.28.4)\n"
     ]
    }
   ],
   "source": [
    "!python3 -m pip install cmake -U"
   ]
  },
  {
   "cell_type": "code",
   "execution_count": 1,
   "id": "08c2e6c9-9021-417e-b55e-1f9b75a663c8",
   "metadata": {
    "scrolled": true,
    "tags": []
   },
   "outputs": [
    {
     "name": "stdout",
     "output_type": "stream",
     "text": [
      "/usr/lib/python3/dist-packages/secretstorage/dhcrypto.py:15: CryptographyDeprecationWarning: int_from_bytes is deprecated, use int.from_bytes instead\n",
      "  from cryptography.utils import int_from_bytes\n",
      "/usr/lib/python3/dist-packages/secretstorage/util.py:19: CryptographyDeprecationWarning: int_from_bytes is deprecated, use int.from_bytes instead\n",
      "  from cryptography.utils import int_from_bytes\n",
      "Defaulting to user installation because normal site-packages is not writeable\n",
      "Requirement already satisfied: tensorflow-gpu==2.1.0 in ./.local/lib/python3.6/site-packages (2.1.0)\n",
      "Requirement already satisfied: tensorflow-probability in ./.local/lib/python3.6/site-packages (0.9.0)\n",
      "Collecting tensorflow-probability\n",
      "  Using cached tensorflow_probability-0.19.0-py2.py3-none-any.whl (6.7 MB)\n",
      "Requirement already satisfied: termcolor>=1.1.0 in ./.local/lib/python3.6/site-packages (from tensorflow-gpu==2.1.0) (1.1.0)\n",
      "Requirement already satisfied: keras-applications>=1.0.8 in ./.local/lib/python3.6/site-packages (from tensorflow-gpu==2.1.0) (1.0.8)\n",
      "Requirement already satisfied: opt-einsum>=2.3.2 in ./.local/lib/python3.6/site-packages (from tensorflow-gpu==2.1.0) (3.1.0)\n",
      "Requirement already satisfied: absl-py>=0.7.0 in ./.local/lib/python3.6/site-packages (from tensorflow-gpu==2.1.0) (0.9.0)\n",
      "Requirement already satisfied: wheel>=0.26 in ./.local/lib/python3.6/site-packages (from tensorflow-gpu==2.1.0) (0.34.2)\n",
      "Requirement already satisfied: protobuf>=3.8.0 in ./.local/lib/python3.6/site-packages (from tensorflow-gpu==2.1.0) (3.11.3)\n",
      "Requirement already satisfied: wrapt>=1.11.1 in ./.local/lib/python3.6/site-packages (from tensorflow-gpu==2.1.0) (1.12.0)\n",
      "Requirement already satisfied: grpcio>=1.8.6 in ./.local/lib/python3.6/site-packages (from tensorflow-gpu==2.1.0) (1.27.2)\n",
      "Requirement already satisfied: tensorboard<2.2.0,>=2.1.0 in ./.local/lib/python3.6/site-packages (from tensorflow-gpu==2.1.0) (2.1.1)\n",
      "Requirement already satisfied: google-pasta>=0.1.6 in ./.local/lib/python3.6/site-packages (from tensorflow-gpu==2.1.0) (0.1.8)\n",
      "Requirement already satisfied: astor>=0.6.0 in ./.local/lib/python3.6/site-packages (from tensorflow-gpu==2.1.0) (0.8.1)\n",
      "Requirement already satisfied: numpy<2.0,>=1.16.0 in ./.local/lib/python3.6/site-packages (from tensorflow-gpu==2.1.0) (1.18.1)\n",
      "Requirement already satisfied: scipy==1.4.1 in ./.local/lib/python3.6/site-packages (from tensorflow-gpu==2.1.0) (1.4.1)\n",
      "Requirement already satisfied: keras-preprocessing>=1.1.0 in ./.local/lib/python3.6/site-packages (from tensorflow-gpu==2.1.0) (1.1.2)\n",
      "Requirement already satisfied: tensorflow-estimator<2.2.0,>=2.1.0rc0 in ./.local/lib/python3.6/site-packages (from tensorflow-gpu==2.1.0) (2.1.0)\n",
      "Requirement already satisfied: six>=1.12.0 in ./.local/lib/python3.6/site-packages (from tensorflow-gpu==2.1.0) (1.14.0)\n",
      "Requirement already satisfied: gast==0.2.2 in ./.local/lib/python3.6/site-packages (from tensorflow-gpu==2.1.0) (0.2.2)\n",
      "  Using cached tensorflow_probability-0.18.0-py2.py3-none-any.whl (6.6 MB)\n",
      "  Using cached tensorflow_probability-0.17.0-py2.py3-none-any.whl (6.5 MB)\n",
      "  Using cached tensorflow_probability-0.16.0-py2.py3-none-any.whl (6.3 MB)\n",
      "  Using cached tensorflow_probability-0.15.0-py2.py3-none-any.whl (5.7 MB)\n",
      "  Using cached tensorflow_probability-0.14.1-py2.py3-none-any.whl (5.7 MB)\n",
      "  Using cached tensorflow_probability-0.14.0-py2.py3-none-any.whl (5.7 MB)\n",
      "  Using cached tensorflow_probability-0.13.0-py2.py3-none-any.whl (5.4 MB)\n",
      "  Using cached tensorflow_probability-0.12.2-py2.py3-none-any.whl (4.8 MB)\n",
      "  Using cached tensorflow_probability-0.12.1-py2.py3-none-any.whl (4.8 MB)\n",
      "  Using cached tensorflow_probability-0.12.0-py2.py3-none-any.whl (4.8 MB)\n",
      "  Using cached tensorflow_probability-0.11.1-py2.py3-none-any.whl (4.3 MB)\n",
      "  Using cached tensorflow_probability-0.11.0-py2.py3-none-any.whl (4.3 MB)\n",
      "  Using cached tensorflow_probability-0.10.1-py2.py3-none-any.whl (3.5 MB)\n",
      "  Using cached tensorflow_probability-0.10.0-py2.py3-none-any.whl (3.5 MB)\n",
      "Requirement already satisfied: decorator in ./.local/lib/python3.6/site-packages (from tensorflow-probability) (4.4.1)\n",
      "Requirement already satisfied: cloudpickle>=1.2.2 in ./.local/lib/python3.6/site-packages (from tensorflow-probability) (1.3.0)\n",
      "Requirement already satisfied: h5py in ./.local/lib/python3.6/site-packages (from keras-applications>=1.0.8->tensorflow-gpu==2.1.0) (2.10.0)\n",
      "Requirement already satisfied: setuptools in ./.local/lib/python3.6/site-packages (from protobuf>=3.8.0->tensorflow-gpu==2.1.0) (45.2.0)\n",
      "Requirement already satisfied: google-auth<2,>=1.6.3 in ./.local/lib/python3.6/site-packages (from tensorboard<2.2.0,>=2.1.0->tensorflow-gpu==2.1.0) (1.11.2)\n",
      "Requirement already satisfied: werkzeug>=0.11.15 in ./.local/lib/python3.6/site-packages (from tensorboard<2.2.0,>=2.1.0->tensorflow-gpu==2.1.0) (2.0.3)\n",
      "Requirement already satisfied: requests<3,>=2.21.0 in /usr/local/lib/python3.6/dist-packages (from tensorboard<2.2.0,>=2.1.0->tensorflow-gpu==2.1.0) (2.27.1)\n",
      "Requirement already satisfied: google-auth-oauthlib<0.5,>=0.4.1 in ./.local/lib/python3.6/site-packages (from tensorboard<2.2.0,>=2.1.0->tensorflow-gpu==2.1.0) (0.4.1)\n",
      "Requirement already satisfied: markdown>=2.6.8 in ./.local/lib/python3.6/site-packages (from tensorboard<2.2.0,>=2.1.0->tensorflow-gpu==2.1.0) (3.2.1)\n",
      "Requirement already satisfied: rsa<4.1,>=3.1.4 in ./.local/lib/python3.6/site-packages (from google-auth<2,>=1.6.3->tensorboard<2.2.0,>=2.1.0->tensorflow-gpu==2.1.0) (4.0)\n",
      "Requirement already satisfied: pyasn1-modules>=0.2.1 in /usr/lib/python3/dist-packages (from google-auth<2,>=1.6.3->tensorboard<2.2.0,>=2.1.0->tensorflow-gpu==2.1.0) (0.2.1)\n",
      "Requirement already satisfied: cachetools<5.0,>=2.0.0 in ./.local/lib/python3.6/site-packages (from google-auth<2,>=1.6.3->tensorboard<2.2.0,>=2.1.0->tensorflow-gpu==2.1.0) (4.2.2)\n",
      "Requirement already satisfied: requests-oauthlib>=0.7.0 in ./.local/lib/python3.6/site-packages (from google-auth-oauthlib<0.5,>=0.4.1->tensorboard<2.2.0,>=2.1.0->tensorflow-gpu==2.1.0) (1.3.0)\n",
      "Requirement already satisfied: charset-normalizer~=2.0.0 in /usr/local/lib/python3.6/dist-packages (from requests<3,>=2.21.0->tensorboard<2.2.0,>=2.1.0->tensorflow-gpu==2.1.0) (2.0.12)\n",
      "Requirement already satisfied: certifi>=2017.4.17 in /usr/local/lib/python3.6/dist-packages (from requests<3,>=2.21.0->tensorboard<2.2.0,>=2.1.0->tensorflow-gpu==2.1.0) (2021.10.8)\n",
      "Requirement already satisfied: idna<4,>=2.5 in /usr/local/lib/python3.6/dist-packages (from requests<3,>=2.21.0->tensorboard<2.2.0,>=2.1.0->tensorflow-gpu==2.1.0) (3.3)\n",
      "Requirement already satisfied: urllib3<1.27,>=1.21.1 in /usr/local/lib/python3.6/dist-packages (from requests<3,>=2.21.0->tensorboard<2.2.0,>=2.1.0->tensorflow-gpu==2.1.0) (1.26.8)\n",
      "Requirement already satisfied: dataclasses in /usr/local/lib/python3.6/dist-packages (from werkzeug>=0.11.15->tensorboard<2.2.0,>=2.1.0->tensorflow-gpu==2.1.0) (0.8)\n",
      "Requirement already satisfied: oauthlib>=3.0.0 in /usr/local/lib/python3.6/dist-packages (from requests-oauthlib>=0.7.0->google-auth-oauthlib<0.5,>=0.4.1->tensorboard<2.2.0,>=2.1.0->tensorflow-gpu==2.1.0) (3.2.0)\n",
      "Requirement already satisfied: pyasn1>=0.1.3 in /usr/lib/python3/dist-packages (from rsa<4.1,>=3.1.4->google-auth<2,>=1.6.3->tensorboard<2.2.0,>=2.1.0->tensorflow-gpu==2.1.0) (0.4.2)\n"
     ]
    }
   ],
   "source": [
    "!python3 -m pip install tensorflow-gpu==2.1.0 tensorflow-probability -U"
   ]
  },
  {
   "cell_type": "code",
   "execution_count": 12,
   "id": "b4e36304-90a1-4133-bc53-6f4e1ab36e3c",
   "metadata": {},
   "outputs": [
    {
     "name": "stdout",
     "output_type": "stream",
     "text": [
      "/usr/lib/python3/dist-packages/secretstorage/dhcrypto.py:15: CryptographyDeprecationWarning: int_from_bytes is deprecated, use int.from_bytes instead\n",
      "  from cryptography.utils import int_from_bytes\n",
      "/usr/lib/python3/dist-packages/secretstorage/util.py:19: CryptographyDeprecationWarning: int_from_bytes is deprecated, use int.from_bytes instead\n",
      "  from cryptography.utils import int_from_bytes\n",
      "Defaulting to user installation because normal site-packages is not writeable\n",
      "Requirement already satisfied: keras==2.2.4 in ./.local/lib/python3.6/site-packages (2.2.4)\n",
      "Requirement already satisfied: six>=1.9.0 in ./.local/lib/python3.6/site-packages (from keras==2.2.4) (1.14.0)\n",
      "Requirement already satisfied: numpy>=1.9.1 in ./.local/lib/python3.6/site-packages (from keras==2.2.4) (1.18.1)\n",
      "Requirement already satisfied: pyyaml in /usr/local/lib/python3.6/dist-packages (from keras==2.2.4) (5.4.1)\n",
      "Requirement already satisfied: h5py in ./.local/lib/python3.6/site-packages (from keras==2.2.4) (2.10.0)\n",
      "Requirement already satisfied: keras-applications>=1.0.6 in ./.local/lib/python3.6/site-packages (from keras==2.2.4) (1.0.8)\n",
      "Requirement already satisfied: keras-preprocessing>=1.0.5 in ./.local/lib/python3.6/site-packages (from keras==2.2.4) (1.1.0)\n",
      "Requirement already satisfied: scipy>=0.14 in ./.local/lib/python3.6/site-packages (from keras==2.2.4) (1.5.4)\n",
      "\u001b[33mWARNING: You are using pip version 20.1.1; however, version 21.3.1 is available.\n",
      "You should consider upgrading via the '/usr/bin/python3 -m pip install --upgrade pip' command.\u001b[0m\n"
     ]
    }
   ],
   "source": [
    "!python3 -m pip install keras==2.2.4"
   ]
  },
  {
   "cell_type": "markdown",
   "id": "db0ab948-fed1-4586-81d3-086f016d7c13",
   "metadata": {},
   "source": [
    "___"
   ]
  },
  {
   "cell_type": "code",
   "execution_count": 1,
   "id": "c7fddb60-17d6-42c8-b240-5e1eac36dd7b",
   "metadata": {},
   "outputs": [],
   "source": [
    "import tensorflow as tf\n",
    "from tensorflow.python.framework.ops import disable_eager_execution\n",
    "disable_eager_execution()\n",
    "\n",
    "tf.compat.v1.experimental.output_all_intermediates(True)"
   ]
  },
  {
   "cell_type": "code",
   "execution_count": 2,
   "id": "bca1e381-1ff5-49b3-937a-2bebb00f6f77",
   "metadata": {},
   "outputs": [],
   "source": [
    "import numpy as np"
   ]
  },
  {
   "cell_type": "code",
   "execution_count": 3,
   "id": "46ce9fc4-0d75-4351-92ca-74013882bbbc",
   "metadata": {},
   "outputs": [],
   "source": [
    "from cvae_models import *"
   ]
  },
  {
   "cell_type": "code",
   "execution_count": 4,
   "id": "46a47811-7a47-41f0-a3d3-50ca45056446",
   "metadata": {},
   "outputs": [],
   "source": [
    "X = np.random.normal(size=(3, 500))\n",
    "y = np.random.normal(size=(3, 433))"
   ]
  },
  {
   "cell_type": "markdown",
   "id": "5599ca18-7db3-4968-8a7a-f0dbf42e020e",
   "metadata": {},
   "source": [
    "___"
   ]
  },
  {
   "cell_type": "code",
   "execution_count": 6,
   "id": "0129386b-ac8f-4c50-90bf-01091d3a6787",
   "metadata": {},
   "outputs": [
    {
     "name": "stdout",
     "output_type": "stream",
     "text": [
      "WARNING:tensorflow:From /home/cyberdan/.local/lib/python3.6/site-packages/tensorflow_core/python/ops/resource_variable_ops.py:1635: calling BaseResourceVariable.__init__ (from tensorflow.python.ops.resource_variable_ops) with constraint is deprecated and will be removed in a future version.\n",
      "Instructions for updating:\n",
      "If using Keras pass *_constraint arguments to layers.\n"
     ]
    }
   ],
   "source": [
    "emb_model = get_emb_model(in_dim=500, out_dim=433)"
   ]
  },
  {
   "cell_type": "code",
   "execution_count": 7,
   "id": "e315edbd-41d9-44d9-8797-3fc6178d7ae7",
   "metadata": {},
   "outputs": [
    {
     "name": "stdout",
     "output_type": "stream",
     "text": [
      "Train on 1 samples\n",
      "1/1 [==============================] - 0s 416ms/sample - loss: 0.8139 - acc: 0.0000e+00\n"
     ]
    },
    {
     "data": {
      "text/plain": [
       "<tensorflow.python.keras.callbacks.History at 0x7fe2d1804b38>"
      ]
     },
     "execution_count": 7,
     "metadata": {},
     "output_type": "execute_result"
    }
   ],
   "source": [
    "emb_model.fit(X, y, batch_size=1, epochs=1)"
   ]
  },
  {
   "cell_type": "code",
   "execution_count": 8,
   "id": "88a809f7-9d29-4e3d-bf81-0cccd14dd62e",
   "metadata": {},
   "outputs": [],
   "source": [
    "emb_model.save('emb.h5')"
   ]
  },
  {
   "cell_type": "markdown",
   "id": "22522c63-070b-4a49-acee-ee1fd24d174f",
   "metadata": {},
   "source": [
    "___"
   ]
  },
  {
   "cell_type": "code",
   "execution_count": 24,
   "id": "72104321-075e-4d7b-8261-d255c61807dd",
   "metadata": {},
   "outputs": [
    {
     "name": "stdout",
     "output_type": "stream",
     "text": [
      "WARNING:tensorflow:Model inputs must come from `tf.keras.Input` (thus holding past layer metadata), they cannot be the output of a previous non-Input layer. Here, a tensor specified as input to \"model_19\" was not an Input tensor, it was generated by layer input_11.\n",
      "Note that input tensors are instantiated via `tensor = tf.keras.Input(shape)`.\n",
      "The tensor that caused the issue was: input_11:0\n"
     ]
    }
   ],
   "source": [
    "gauss_model, decoder = get_gauss_model(trained_emb_model_path='emb.h5', in_dim=500, out_dim=433, adds_dim=129, catalyst_dim=297, pressure_dim=4, temperature_dim=3)"
   ]
  },
  {
   "cell_type": "code",
   "execution_count": 25,
   "id": "84f7f752-6364-42ac-b5c7-a10222e597e3",
   "metadata": {},
   "outputs": [
    {
     "name": "stdout",
     "output_type": "stream",
     "text": [
      "Train on 3 samples\n",
      "3/3 [==============================] - 1s 392ms/sample - loss: -20.3199 - model_18_loss: 0.8060 - model_18_1_loss: 2.2822 - model_18_2_loss: 5.0991e-19 - model_18_3_loss: -23.4163\n"
     ]
    },
    {
     "data": {
      "text/plain": [
       "<tensorflow.python.keras.callbacks.History at 0x7fa5fc362eb8>"
      ]
     },
     "execution_count": 25,
     "metadata": {},
     "output_type": "execute_result"
    }
   ],
   "source": [
    "gauss_model.fit([X, y], \n",
    "                [y[:, :3], y[:, 3:7], \n",
    "                y[:, 7:129+7], y[:, 129+7:]], \n",
    "                batch_size=3, epochs=1)"
   ]
  },
  {
   "cell_type": "code",
   "execution_count": 26,
   "id": "6c6d1d5e-cc03-4221-be04-30d80938abac",
   "metadata": {},
   "outputs": [
    {
     "name": "stdout",
     "output_type": "stream",
     "text": [
      "100/100"
     ]
    }
   ],
   "source": [
    "top_ans = generate_gauss(X, decoder, adds_dim=129, catalyst_dim=297, pressure_dim=4, temperature_dim=3, s=100)"
   ]
  },
  {
   "cell_type": "code",
   "execution_count": 41,
   "id": "faa12230-1714-437f-88ba-67284849ab0e",
   "metadata": {},
   "outputs": [],
   "source": [
    "for i in range(len(top_ans)):\n",
    "    top1_t = top_ans[i][0][0]\n",
    "    top1_p = top_ans[i][0][1]\n",
    "    top1_adds = top_ans[i][0][2:-1]\n",
    "    top1_catalyst = top_ans[i][0][-1]"
   ]
  },
  {
   "cell_type": "markdown",
   "id": "d971237b-aa44-4bef-bfed-cbf46823320d",
   "metadata": {},
   "source": [
    "___"
   ]
  },
  {
   "cell_type": "code",
   "execution_count": 5,
   "id": "945894c1-a120-45f0-9f6e-1c5ccd8dca67",
   "metadata": {},
   "outputs": [
    {
     "name": "stdout",
     "output_type": "stream",
     "text": [
      "WARNING:tensorflow:From /home/cyberdan/.local/lib/python3.6/site-packages/tensorflow_core/python/ops/resource_variable_ops.py:1635: calling BaseResourceVariable.__init__ (from tensorflow.python.ops.resource_variable_ops) with constraint is deprecated and will be removed in a future version.\n",
      "Instructions for updating:\n",
      "If using Keras pass *_constraint arguments to layers.\n",
      "WARNING:tensorflow:Model inputs must come from `tf.keras.Input` (thus holding past layer metadata), they cannot be the output of a previous non-Input layer. Here, a tensor specified as input to \"model_4\" was not an Input tensor, it was generated by layer input_1.\n",
      "Note that input tensors are instantiated via `tensor = tf.keras.Input(shape)`.\n",
      "The tensor that caused the issue was: input_1:0\n"
     ]
    }
   ],
   "source": [
    "rnf_model, decoder = get_rnf_gauss_model(trained_emb_model_path='emb.h5', in_dim=500, out_dim=433, adds_dim=129, catalyst_dim=297, pressure_dim=4, temperature_dim=3)"
   ]
  },
  {
   "cell_type": "code",
   "execution_count": 6,
   "id": "333f47a8-50ff-4783-a172-142e5f519de7",
   "metadata": {
    "scrolled": true,
    "tags": []
   },
   "outputs": [
    {
     "name": "stdout",
     "output_type": "stream",
     "text": [
      "-------------------------------------------------------------\n",
      "1\n",
      "-------------------------------------------------------------\n"
     ]
    },
    {
     "name": "stderr",
     "output_type": "stream",
     "text": [
      "/home/cyberdan/.local/lib/python3.6/site-packages/tensorflow_core/python/framework/indexed_slices.py:433: UserWarning: Converting sparse IndexedSlices to a dense Tensor of unknown shape. This may consume a large amount of memory.\n",
      "  \"Converting sparse IndexedSlices to a dense Tensor of unknown shape. \"\n",
      "/home/cyberdan/.local/lib/python3.6/site-packages/tensorflow_core/python/framework/indexed_slices.py:433: UserWarning: Converting sparse IndexedSlices to a dense Tensor of unknown shape. This may consume a large amount of memory.\n",
      "  \"Converting sparse IndexedSlices to a dense Tensor of unknown shape. \"\n",
      "/home/cyberdan/.local/lib/python3.6/site-packages/tensorflow_core/python/framework/indexed_slices.py:433: UserWarning: Converting sparse IndexedSlices to a dense Tensor of unknown shape. This may consume a large amount of memory.\n",
      "  \"Converting sparse IndexedSlices to a dense Tensor of unknown shape. \"\n"
     ]
    },
    {
     "name": "stdout",
     "output_type": "stream",
     "text": [
      "Train on 3 samples\n",
      "3/3 [==============================] - 3s 886ms/sample - loss: -6.6122 - model_3_loss: 0.9029 - model_3_1_loss: 2.4039 - model_3_2_loss: 5.0991e-19 - model_3_3_loss: -18.6403\n"
     ]
    }
   ],
   "source": [
    "fit_rnf_gauss_model(rnf_model, epochs=1, batch_size=3, X_train=X, y_train=y, t_dim=3, p_dim=4, add_dim=129)"
   ]
  },
  {
   "cell_type": "code",
   "execution_count": 8,
   "id": "8e9e1ed7-a093-4d9e-b92f-f0ecbaab5b30",
   "metadata": {},
   "outputs": [
    {
     "name": "stdout",
     "output_type": "stream",
     "text": [
      "100/100"
     ]
    }
   ],
   "source": [
    "top_ans = generate_gauss(X, decoder, adds_dim=129, catalyst_dim=297, pressure_dim=4, temperature_dim=3, s=100)"
   ]
  },
  {
   "cell_type": "code",
   "execution_count": 16,
   "id": "80375477-51ca-421f-b23d-11089e334989",
   "metadata": {},
   "outputs": [],
   "source": [
    "for i in range(len(top_ans)):\n",
    "    top1_t = top_ans[i][0][0]\n",
    "    top1_p = top_ans[i][0][1]\n",
    "    top1_adds = top_ans[i][0][2:-1]\n",
    "    top1_catalyst = top_ans[i][0][-1]"
   ]
  },
  {
   "cell_type": "markdown",
   "id": "0cbf68c1-d6af-45b1-9123-3ad3e048c980",
   "metadata": {},
   "source": [
    "___"
   ]
  },
  {
   "cell_type": "code",
   "execution_count": 10,
   "id": "da6e0cdc-6d64-4adf-a778-fd27da867ace",
   "metadata": {},
   "outputs": [
    {
     "name": "stdout",
     "output_type": "stream",
     "text": [
      "WARNING:tensorflow:Model inputs must come from `tf.keras.Input` (thus holding past layer metadata), they cannot be the output of a previous non-Input layer. Here, a tensor specified as input to \"model_14\" was not an Input tensor, it was generated by layer input_8.\n",
      "Note that input tensors are instantiated via `tensor = tf.keras.Input(shape)`.\n",
      "The tensor that caused the issue was: input_8:0\n"
     ]
    }
   ],
   "source": [
    "h_model, decoder = get_h_model(trained_emb_model_path='emb.h5', in_dim=500, out_dim=433, adds_dim=129, catalyst_dim=297, pressure_dim=4, temperature_dim=3)"
   ]
  },
  {
   "cell_type": "code",
   "execution_count": 21,
   "id": "8a096f53-8868-40b9-9316-916200fccc55",
   "metadata": {},
   "outputs": [
    {
     "name": "stdout",
     "output_type": "stream",
     "text": [
      "Train on 3 samples\n",
      "3/3 [==============================] - 2s 584ms/sample - loss: -32.2061 - model_13_loss: 0.9613 - model_13_1_loss: 2.3602 - model_13_2_loss: 5.0991e-19 - model_13_3_loss: -35.5277\n"
     ]
    },
    {
     "data": {
      "text/plain": [
       "<tensorflow.python.keras.callbacks.History at 0x7fa6800806d8>"
      ]
     },
     "execution_count": 21,
     "metadata": {},
     "output_type": "execute_result"
    }
   ],
   "source": [
    "h_model.fit([X, y], \n",
    "            [y[:, :3], y[:, 3:7], \n",
    "            y[:, 7:129+7], y[:, 129+7:]], \n",
    "            batch_size=3, epochs=1)"
   ]
  },
  {
   "cell_type": "code",
   "execution_count": 22,
   "id": "9ccaab88-5a48-406c-a2e3-ad9764011fd7",
   "metadata": {},
   "outputs": [
    {
     "name": "stdout",
     "output_type": "stream",
     "text": [
      "100/100"
     ]
    }
   ],
   "source": [
    "top_ans = generate_h(X, decoder, adds_dim=129, catalyst_dim=297, pressure_dim=4, temperature_dim=3, s=100)"
   ]
  },
  {
   "cell_type": "code",
   "execution_count": 23,
   "id": "07e1e307-91ce-4af7-9f38-b13a9c397e59",
   "metadata": {},
   "outputs": [],
   "source": [
    "for i in range(len(top_ans)):\n",
    "    top1_t = top_ans[i][0][0]\n",
    "    top1_p = top_ans[i][0][1]\n",
    "    top1_adds = top_ans[i][0][2:-1]\n",
    "    top1_catalyst = top_ans[i][0][-1]"
   ]
  },
  {
   "cell_type": "code",
   "execution_count": null,
   "id": "2720abef-3e30-4447-8df6-9e9ca1f0823f",
   "metadata": {},
   "outputs": [],
   "source": []
  }
 ],
 "metadata": {
  "kernelspec": {
   "display_name": "Python 3",
   "language": "python",
   "name": "python3"
  },
  "language_info": {
   "codemirror_mode": {
    "name": "ipython",
    "version": 3
   },
   "file_extension": ".py",
   "mimetype": "text/x-python",
   "name": "python",
   "nbconvert_exporter": "python",
   "pygments_lexer": "ipython3",
   "version": "3.6.9"
  }
 },
 "nbformat": 4,
 "nbformat_minor": 5
}
