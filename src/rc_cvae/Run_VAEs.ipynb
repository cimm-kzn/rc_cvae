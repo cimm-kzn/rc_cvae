{
 "cells": [
  {
   "cell_type": "markdown",
   "id": "db0ab948-fed1-4586-81d3-086f016d7c13",
   "metadata": {
    "tags": []
   },
   "source": [
    "# Examples of models' creation from paper Conditional Variational AutoEncoder to Predict Suitable Conditions for Hydrogenation Reactions "
   ]
  },
  {
   "cell_type": "code",
   "execution_count": 1,
   "id": "bca1e381-1ff5-49b3-937a-2bebb00f6f77",
   "metadata": {},
   "outputs": [],
   "source": [
    "import numpy as np\n",
    "from cvae_models import get_emb_model, get_gauss_model, generate_gauss, get_rnf_gauss_model, fit_rnf_gauss_model, get_h_model, generate_h, convert_predictions\n",
    "from descriptors_generation import generate_x_descriptors, generate_y,  training_data_preparation\n",
    "\n",
    "\n",
    "from CGRtools.files import RDFread\n",
    "\n",
    "# disable tensorflow warnings\n",
    "import logging, os\n",
    "logging.disable(logging.WARNING)\n",
    "import tensorflow as tf\n",
    "tf.get_logger().setLevel('INFO')"
   ]
  },
  {
   "cell_type": "markdown",
   "id": "46ce9fc4-0d75-4351-92ca-74013882bbbc",
   "metadata": {
    "tags": []
   },
   "source": [
    "## Data preparation"
   ]
  },
  {
   "cell_type": "markdown",
   "id": "47ea55a5",
   "metadata": {},
   "source": [
    "### Initial data"
   ]
  },
  {
   "cell_type": "markdown",
   "id": "9bc9b2e8",
   "metadata": {},
   "source": [
    "\"data/example_data/example_hydrogenation_USPTO.rdf\" - 353 previously standardized hydrogenation reactions extracted from USPTO database."
   ]
  },
  {
   "cell_type": "code",
   "execution_count": null,
   "id": "cee84366",
   "metadata": {},
   "outputs": [],
   "source": [
    "with RDFread(\"data/example_data/example_hydrogenation_USPTO.rdf\") as f:\n",
    "    reaction = next(f)"
   ]
  },
  {
   "cell_type": "code",
   "execution_count": 3,
   "id": "621e2ce7",
   "metadata": {},
   "outputs": [
    {
     "data": {
      "image/svg+xml": [
       "<svg width=\"9.29cm\" height=\"4.71cm\" viewBox=\"-0.50 -4.21 9.29 4.71\" xmlns=\"http://www.w3.org/2000/svg\" version=\"1.1\">\n",
       "  <defs>\n",
       "    <marker id=\"arrow\" markerWidth=\"10\" markerHeight=\"10\" refX=\"0\" refY=\"3\" orient=\"auto\">\n",
       "      <path d=\"M0,0 L0,6 L9,3\"/>\n",
       "    </marker>\n",
       "    <mask id=\"mask-8b7884f2-76f6-4033-954a-23d4902870db\">\n",
       "      <rect x=\"-0.50\" y=\"-4.21\" width=\"9.29\" height=\"4.71\" fill=\"white\"/>\n",
       "      <circle cx=\"0.71\" cy=\"-0.41\" r=\"0.21\" fill=\"black\"/>\n",
       "      <circle cx=\"0.71\" cy=\"-3.71\" r=\"0.21\" fill=\"black\"/>\n",
       "      <circle cx=\"2.14\" cy=\"-1.24\" r=\"0.21\" fill=\"black\"/>\n",
       "      <circle cx=\"1.43\" cy=\"-0.00\" r=\"0.21\" fill=\"black\"/>\n",
       "      <circle cx=\"0.00\" cy=\"-0.00\" r=\"0.21\" fill=\"black\"/>\n",
       "      <circle cx=\"6.86\" cy=\"-0.00\" r=\"0.21\" fill=\"black\"/>\n",
       "      <circle cx=\"6.86\" cy=\"-3.30\" r=\"0.21\" fill=\"black\"/>\n",
       "      <circle cx=\"8.29\" cy=\"-0.82\" r=\"0.21\" fill=\"black\"/>\n",
       "    </mask>\n",
       "  </defs>\n",
       "  <line x1=\"3.14\" y1=\"-1\" x2=\"5.14\" y2=\"-1\" fill=\"none\" stroke=\"black\" stroke-width=\".04\" marker-end=\"url(#arrow)\"/>\n",
       "  <g fill=\"none\" stroke=\"black\" stroke-width=\".03\" mask=\"url(#mask-8b7884f2-76f6-4033-954a-23d4902870db)\">\n",
       "    <line x1=\"-0.50\" y1=\"-4.21\" x2=\"8.79\" y2=\"-4.21\" stroke=\"none\"/>\n",
       "    <line x1=\"0.71\" y1=\"-0.41\" x2=\"0.71\" y2=\"-1.24\"/>\n",
       "    <line x1=\"0.71\" y1=\"-0.41\" x2=\"1.43\" y2=\"-0.00\"/>\n",
       "    <line x1=\"0.69\" y1=\"-0.45\" x2=\"-0.02\" y2=\"-0.03\"/>\n",
       "    <line x1=\"0.73\" y1=\"-0.38\" x2=\"0.02\" y2=\"0.03\"/>\n",
       "    <line x1=\"0.71\" y1=\"-1.24\" x2=\"0.00\" y2=\"-1.65\"/>\n",
       "    <line x1=\"0.71\" y1=\"-1.24\" x2=\"1.43\" y2=\"-1.65\"/>\n",
       "    <line x1=\"0.00\" y1=\"-1.65\" x2=\"0.00\" y2=\"-2.48\"/>\n",
       "    <line x1=\"0.00\" y1=\"-2.48\" x2=\"0.71\" y2=\"-2.89\"/>\n",
       "    <line x1=\"0.71\" y1=\"-2.89\" x2=\"0.71\" y2=\"-3.71\"/>\n",
       "    <line x1=\"0.71\" y1=\"-2.89\" x2=\"1.43\" y2=\"-2.48\"/>\n",
       "    <line x1=\"1.43\" y1=\"-2.48\" x2=\"1.43\" y2=\"-1.65\"/>\n",
       "    <line x1=\"1.43\" y1=\"-1.65\" x2=\"2.14\" y2=\"-1.24\"/>\n",
       "    <line x1=\"0.71\" y1=\"-1.33\" x2=\"1.35\" y2=\"-1.70\" stroke-dasharray=\"0.20 0.10\"/>\n",
       "    <line x1=\"1.35\" y1=\"-1.70\" x2=\"1.35\" y2=\"-2.43\" stroke-dasharray=\"0.20 0.10\"/>\n",
       "    <line x1=\"1.35\" y1=\"-2.43\" x2=\"0.71\" y2=\"-2.80\" stroke-dasharray=\"0.20 0.10\"/>\n",
       "    <line x1=\"0.71\" y1=\"-2.80\" x2=\"0.08\" y2=\"-2.43\" stroke-dasharray=\"0.20 0.10\"/>\n",
       "    <line x1=\"0.08\" y1=\"-2.43\" x2=\"0.08\" y2=\"-1.70\" stroke-dasharray=\"0.20 0.10\"/>\n",
       "    <line x1=\"0.08\" y1=\"-1.70\" x2=\"0.71\" y2=\"-1.33\" stroke-dasharray=\"0.20 0.10\"/>\n",
       "    <line x1=\"6.86\" y1=\"-0.00\" x2=\"6.86\" y2=\"-0.82\"/>\n",
       "    <line x1=\"6.86\" y1=\"-0.82\" x2=\"6.14\" y2=\"-1.24\"/>\n",
       "    <line x1=\"6.86\" y1=\"-0.82\" x2=\"7.57\" y2=\"-1.24\"/>\n",
       "    <line x1=\"6.14\" y1=\"-1.24\" x2=\"6.14\" y2=\"-2.06\"/>\n",
       "    <line x1=\"6.14\" y1=\"-2.06\" x2=\"6.86\" y2=\"-2.47\"/>\n",
       "    <line x1=\"6.86\" y1=\"-2.47\" x2=\"6.86\" y2=\"-3.30\"/>\n",
       "    <line x1=\"6.86\" y1=\"-2.47\" x2=\"7.57\" y2=\"-2.06\"/>\n",
       "    <line x1=\"7.57\" y1=\"-2.06\" x2=\"7.57\" y2=\"-1.24\"/>\n",
       "    <line x1=\"7.57\" y1=\"-1.24\" x2=\"8.29\" y2=\"-0.82\"/>\n",
       "    <line x1=\"6.86\" y1=\"-0.92\" x2=\"7.49\" y2=\"-1.28\" stroke-dasharray=\"0.20 0.10\"/>\n",
       "    <line x1=\"7.49\" y1=\"-1.28\" x2=\"7.49\" y2=\"-2.02\" stroke-dasharray=\"0.20 0.10\"/>\n",
       "    <line x1=\"7.49\" y1=\"-2.02\" x2=\"6.86\" y2=\"-2.38\" stroke-dasharray=\"0.20 0.10\"/>\n",
       "    <line x1=\"6.86\" y1=\"-2.38\" x2=\"6.22\" y2=\"-2.02\" stroke-dasharray=\"0.20 0.10\"/>\n",
       "    <line x1=\"6.22\" y1=\"-2.02\" x2=\"6.22\" y2=\"-1.28\" stroke-dasharray=\"0.20 0.10\"/>\n",
       "    <line x1=\"6.22\" y1=\"-1.28\" x2=\"6.86\" y2=\"-0.92\" stroke-dasharray=\"0.20 0.10\"/>\n",
       "  </g>\n",
       "  <g font-family=\"sans-serif\">\n",
       "    <g fill=\"#3050F8\">\n",
       "      <text x=\"0.57\" y=\"-0.27\" font-size=\"0.40\">N</text>\n",
       "      <text x=\"0.85\" y=\"-0.55\" font-size=\"0.30\">+</text>\n",
       "    </g>\n",
       "    <g fill=\"#FF0D0D\">\n",
       "      <text x=\"0.57\" y=\"-3.57\" font-size=\"0.40\">O</text>\n",
       "    </g>\n",
       "    <g fill=\"#90E050\">\n",
       "      <text x=\"2.00\" y=\"-1.10\" font-size=\"0.40\">F</text>\n",
       "    </g>\n",
       "    <g fill=\"#FF0D0D\">\n",
       "      <text x=\"1.29\" y=\"0.14\" font-size=\"0.40\">O</text>\n",
       "      <text x=\"1.57\" y=\"-0.14\" font-size=\"0.30\">⁃</text>\n",
       "    </g>\n",
       "    <g fill=\"#FF0D0D\">\n",
       "      <text x=\"-0.14\" y=\"0.14\" font-size=\"0.40\">O</text>\n",
       "    </g>\n",
       "    <g fill=\"#3050F8\">\n",
       "      <text x=\"6.72\" y=\"0.14\" font-size=\"0.40\">N</text>\n",
       "    </g>\n",
       "    <g fill=\"#FF0D0D\">\n",
       "      <text x=\"6.72\" y=\"-3.16\" font-size=\"0.40\">O</text>\n",
       "    </g>\n",
       "    <g fill=\"#90E050\">\n",
       "      <text x=\"8.15\" y=\"-0.68\" font-size=\"0.40\">F</text>\n",
       "    </g>\n",
       "  </g>\n",
       "</svg>"
      ],
      "text/plain": [
       "<CGRtools.containers.reaction.ReactionContainer at 0x7fb9cd982e88>"
      ]
     },
     "execution_count": 3,
     "metadata": {},
     "output_type": "execute_result"
    }
   ],
   "source": [
    "reaction"
   ]
  },
  {
   "cell_type": "markdown",
   "id": "9b5a6167",
   "metadata": {},
   "source": [
    "**reaction.meta** contains data of reaction, in our case, reaction conditions:"
   ]
  },
  {
   "cell_type": "code",
   "execution_count": 4,
   "id": "08b2e986",
   "metadata": {},
   "outputs": [
    {
     "name": "stdout",
     "output_type": "stream",
     "text": [
      "Condition 2_source_id US20150018393A1\n",
      "Condition 2_year 2015\n",
      "Condition 2_catalyst Palladium on activated carbon\n",
      "Condition 3_source_id US20100197911A1\n",
      "Condition 3_year 2010\n",
      "Condition 3_catalyst Palladium on activated carbon\n",
      "Condition 3_temperature 25.0\n",
      "Condition 5_source_id US20100173954A1\n",
      "Condition 5_year 2010\n",
      "Condition 5_catalyst Palladium on activated carbon\n",
      "Condition 6_source_id US20100267777A1\n",
      "Condition 6_year 2010\n",
      "Condition 6_catalyst Palladium on activated carbon\n",
      "Condition 7_source_id US20130183268A1\n",
      "Condition 7_year 2013\n",
      "Condition 7_catalyst Palladium on activated carbon\n",
      "Condition 9_source_id US20130131122A1\n",
      "Condition 9_year 2013\n",
      "Condition 9_catalyst Palladium on activated carbon\n",
      "Condition 10_source_id US20070066542A1\n",
      "Condition 10_year 2007\n",
      "Condition 10_catalyst Palladium catalyst\n",
      "Condition 11_source_id US20060160832A1\n",
      "Condition 11_year 2006\n",
      "Condition 11_catalyst Palladium on activated carbon\n",
      "Condition 11_temperature 25.0\n",
      "Condition 12_source_id US20060058358A1\n",
      "Condition 12_year 2006\n",
      "Condition 12_catalyst Palladium on activated carbon\n",
      "Condition 16_source_id US07973160B2\n",
      "Condition 16_year 2011\n",
      "Condition 16_catalyst Palladium on activated carbon\n",
      "Condition 16_temperature 25.0\n",
      "Condition 17_source_id US08076488B2\n",
      "Condition 17_year 2011\n",
      "Condition 17_catalyst Palladium on activated carbon\n",
      "Condition 19_source_id US07253286B2\n",
      "Condition 19_year 2007\n",
      "Condition 19_catalyst Palladium on activated carbon\n",
      "Condition 19_temperature 25.0\n",
      "Condition 21_source_id US07612092B2\n",
      "Condition 21_year 2009\n",
      "Condition 21_catalyst Palladium on activated carbon\n",
      "Condition 21_temperature 25.0\n",
      "Condition 24_source_id US20110118470A1\n",
      "Condition 24_year 2011\n",
      "Condition 24_catalyst Palladium on activated carbon\n",
      "Condition 24_temperature 25.0\n",
      "Condition 26_source_id US20040053908A1\n",
      "Condition 26_year 2004\n",
      "Condition 26_catalyst Palladium on activated carbon\n",
      "Condition 26_temperature 25.0\n",
      "Condition 27_source_id US20050038031A1\n",
      "Condition 27_year 2005\n",
      "Condition 27_catalyst Palladium on activated carbon\n",
      "Condition 28_source_id US20060247259A1\n",
      "Condition 28_year 2006\n",
      "Condition 28_catalyst Palladium on activated carbon\n",
      "Condition 28_temperature 25.0\n",
      "Condition 33_source_id US08372981B2\n",
      "Condition 33_year 2013\n",
      "Condition 33_catalyst Palladium on activated carbon\n",
      "Condition 33_temperature 25.0\n",
      "Condition 34_source_id US08637553B2\n",
      "Condition 34_year 2014\n",
      "Condition 34_catalyst Palladium on activated carbon\n",
      "Condition 35_source_id US08680124B2\n",
      "Condition 35_year 2014\n",
      "Condition 35_catalyst Palladium on activated carbon\n",
      "Condition 37_source_id US07534805B2\n",
      "Condition 37_year 2009\n",
      "Condition 37_catalyst Palladium catalyst\n",
      "Transformation_ID 1569\n"
     ]
    }
   ],
   "source": [
    "for k, v in reaction.meta.items():\n",
    "    print(k, v)"
   ]
  },
  {
   "cell_type": "markdown",
   "id": "581a2cd5",
   "metadata": {},
   "source": [
    "Every record in RDF file must include atom-to-atom mapping and reaction conditions. RDF file shouldn`t include duplicates by transformation (reaction scheme).\n",
    "\n",
    "It is expected that unknown or missing conditions will be skipped.\n",
    "\n",
    "RDF file must include the field with transformation (reaction scheme) unique index, for example, the field name may be \"Transformation_ID\"; the field with a single catalyst name.\n",
    "\n",
    "Every field for reaction condition should have prefix with unique condition index, with \"_\" as delimiter between prefix and condition name, for example, field for temperature for condition combination with index 3 will be \"Condition 3_temperature\".\n",
    "\n",
    "Expected condition fields:\n",
    "\n",
    "* **temperature** - float\n",
    "\n",
    "* **pressure** - float\n",
    "\n",
    "* **acids** - string with names of acids, delimiter \"|\"\n",
    "\n",
    "* **bases** - string with names of bases, delimiter \"|\"\n",
    "\n",
    "* **catalytic_poisons** - string with names of catalytic poisons, delimiter \"|\"\n",
    "\n",
    "* **catalyst** - string with name of the single catalyst"
   ]
  },
  {
   "cell_type": "markdown",
   "id": "16e3875e",
   "metadata": {},
   "source": [
    "### X descriptors generation"
   ]
  },
  {
   "cell_type": "markdown",
   "id": "9bf2ea3d",
   "metadata": {},
   "source": [
    "The following parameters for **generate_x_descriptors** must be specified: \n",
    "\n",
    "* **input_filename** - path to initial (but preliminarily standardized) MDL RDF file (with atom-to-atom mapping and reaction conditions)  \n",
    "\n",
    "* **step** - the step of QSPR modeling. May be \"training\" or \"prediction\"\n",
    "\n",
    "* **frg_filename** - if step=\"training\", it is a path to file to save unique fragments of training set (should be used to test set fragmentation similarly preprocessing.StandardScaler() from scikit-learn). In the another case, it is the path to fitted Fragmentor file (in pickle format)\n",
    "\n",
    "* **ipca_filename** - if step=\"training\", it is a path to file to save PCA model. In the another case, it is the path to fitted Incremental PCA model (in pickle format). Size of chunk was defined automatically\n",
    "\n",
    "* **x_filename** - path to file to save X descriptors (in pickle format)\n",
    "\n",
    "* **id_field** - name of the field in RDF file with transformation (reaction scheme) unique index\n",
    "\n",
    "* **chunksize** - number of reactions in batch for fragmentation \n",
    "\n",
    "* **num_pc** - number of desired principal components"
   ]
  },
  {
   "cell_type": "markdown",
   "id": "527613d0",
   "metadata": {},
   "source": [
    "Example of X generation for training set:"
   ]
  },
  {
   "cell_type": "code",
   "execution_count": null,
   "id": "b68c4420",
   "metadata": {},
   "outputs": [
    {
     "name": "stdout",
     "output_type": "stream",
     "text": [
      "Fragmentation...\n",
      "Fragmentation chunk No1\n",
      "Fragmentation chunk No2\n",
      "Fragmentation chunk No3\n",
      "Fragmentation chunk No4\n",
      "Fitted Fragmentor was saved to file fragmentor.pickle\n",
      "Incremental PCA chunk (learning) No1 (353 reactions from 353)\n",
      "Explained variance: 0.901\n",
      "Fitted IncrementalPCA was saved to file ipca.pickle\n",
      "Incremental PCA chunk (transformation) No1 (353 reactions from 353)\n"
     ]
    }
   ],
   "source": [
    "X = generate_x_descriptors(\n",
    "    input_filename=\"data/example_data/example_hydrogenation_USPTO.rdf\",\n",
    "    step=\"training\",\n",
    "    frg_filename=\"fragmentor.pickle\", \n",
    "    ipca_filename=\"ipca.pickle\", \n",
    "    x_filename=\"x_descriptors\",\n",
    "    id_field='Transformation_ID',\n",
    "    chunksize=100,\n",
    "    num_pc=100)\n"
   ]
  },
  {
   "cell_type": "markdown",
   "id": "4c443f61",
   "metadata": {},
   "source": [
    "Example of X generation for test set:"
   ]
  },
  {
   "cell_type": "code",
   "execution_count": null,
   "id": "14a53651",
   "metadata": {},
   "outputs": [
    {
     "name": "stdout",
     "output_type": "stream",
     "text": [
      "Incremental PCA chunk (transformation) No1 (353 reactions from 353)\n"
     ]
    }
   ],
   "source": [
    "X = generate_x_descriptors(\n",
    "    input_filename=\"data/example_data/example_hydrogenation_USPTO.rdf\",\n",
    "    step=\"prediction\",\n",
    "    frg_filename=\"fragmentor.pickle\", \n",
    "    ipca_filename=\"ipca.pickle\", \n",
    "    x_filename=\"x_descriptors.pickle\",\n",
    "    id_field='Transformation_ID',\n",
    "    chunksize=100,\n",
    "    num_pc=100)\n"
   ]
  },
  {
   "cell_type": "markdown",
   "id": "d32223d6",
   "metadata": {},
   "source": [
    "### Y generation"
   ]
  },
  {
   "cell_type": "markdown",
   "id": "3d6bf381",
   "metadata": {},
   "source": [
    "Temperature and pressure are discretized into several bins by thresholds. Thresholds should be increasing; they defined as `thresholds[i-1] <= x < thresholds[i]`\n",
    "\n",
    "According to our paper (and this example) thresholds take the following values.\n"
   ]
  },
  {
   "cell_type": "markdown",
   "id": "158ff7ab",
   "metadata": {},
   "source": [
    "**For temperature:**"
   ]
  },
  {
   "cell_type": "code",
   "execution_count": 7,
   "id": "50e73c62",
   "metadata": {},
   "outputs": [],
   "source": [
    "t_thresholds=(10, 40)"
   ]
  },
  {
   "cell_type": "markdown",
   "id": "a6dec44a",
   "metadata": {},
   "source": [
    "It means 't<10', '10<=t<40', 't>=40' (in Celsius degrees)"
   ]
  },
  {
   "cell_type": "markdown",
   "id": "66d699a6",
   "metadata": {},
   "source": [
    "**For pressure:**"
   ]
  },
  {
   "cell_type": "code",
   "execution_count": 8,
   "id": "9ec5c026",
   "metadata": {},
   "outputs": [],
   "source": [
    "p_thresholds=(1, 3.5, 100)"
   ]
  },
  {
   "cell_type": "markdown",
   "id": "4a8f24c4",
   "metadata": {},
   "source": [
    "It means 'p<1', '1<=p<3.5', '3.5<=p<100', 'p>=100' (in atmospheres)."
   ]
  },
  {
   "cell_type": "code",
   "execution_count": null,
   "id": "80a9e81b",
   "metadata": {},
   "outputs": [],
   "source": [
    "\n",
    "# read additives and catalysts lists from txt files\n",
    "acids_bases_poisons = []\n",
    "with open('data/example_data/acids_bases_poisons_list.txt', 'r') as f:\n",
    "    for line in f:\n",
    "        acids_bases_poisons.append(line.strip())  \n",
    "\n",
    "catalysts = []\n",
    "with open('data/example_data/catalysts_list.txt', 'r') as f:\n",
    "    for line in f:\n",
    "        catalysts.append(line.strip())"
   ]
  },
  {
   "cell_type": "code",
   "execution_count": 10,
   "id": "2ed00ac5",
   "metadata": {},
   "outputs": [
    {
     "name": "stdout",
     "output_type": "stream",
     "text": [
      "Number of temperature bins:  3\n",
      "Number of pressure bins:  4\n",
      "Number of additives (acids, bases, catalytic poisons):  131\n",
      "Number of catalysts:  227\n"
     ]
    }
   ],
   "source": [
    "number_t_bins = len(t_thresholds) + 1\n",
    "number_p_bins = len(p_thresholds) + 1\n",
    "number_acids_bases_poisons = len(acids_bases_poisons)\n",
    "number_catalysts = len(catalysts)\n",
    "\n",
    "print('Number of temperature bins: ', number_t_bins)\n",
    "print('Number of pressure bins: ', number_p_bins)\n",
    "print('Number of additives (acids, bases, catalytic poisons): ', number_acids_bases_poisons)\n",
    "print('Number of catalysts: ', number_catalysts)"
   ]
  },
  {
   "cell_type": "markdown",
   "id": "af95eca3",
   "metadata": {},
   "source": [
    "The following parameters for **generate_y** must be specified: \n",
    "\n",
    "* **input_filename** - path to initial (but preliminarily standardized) MDL RDF file (with atom-to-atom mapping and reaction conditions)  \n",
    "\n",
    "* **y_filename** - path to file to save y (in pickle format)\n",
    "\n",
    "* **acids_bases_poisons** - list of additives (acids, bases, catalytic poisons) names (unique) \n",
    "\n",
    "* **catalysts** - list of catalysts names (unique) \n",
    "\n",
    "* **id_field** - name of the field in RDF file with transformation (reaction scheme) unique index\n",
    "\n",
    "* **condition_id_field** - prefix of the fields in RDF file with reaction condition (\"_\" used as delimiter between prefix and field name). Example: \"Condition 3_temperature\". \n"
   ]
  },
  {
   "cell_type": "code",
   "execution_count": null,
   "id": "50dffc54",
   "metadata": {},
   "outputs": [],
   "source": [
    "y = generate_y(input_filename=\"data/example_data/example_hydrogenation_USPTO.rdf\",\n",
    "               y_filename='y.pickle', \n",
    "               acids_bases_poisons=acids_bases_poisons, \n",
    "               catalysts=catalysts, \n",
    "               id_field='Transformation_ID', \n",
    "               condition_id_field='Condition_ID',\n",
    "               t_thresholds=(10, 40), \n",
    "               p_thresholds=(1, 3.5, 100), \n",
    "               none_imputer=1_000_000, \n",
    "               drop_duplicates=True)"
   ]
  },
  {
   "cell_type": "markdown",
   "id": "0ec26f48",
   "metadata": {},
   "source": [
    "X and y are pandas DataFrames with **id_field** as index. Numbers of principal component after PCA are columns for X. \n",
    "Temperature and pressure bins and names of additives (acids, bases, catalytic poisons) and names of catalysts are columns for y. "
   ]
  },
  {
   "cell_type": "code",
   "execution_count": null,
   "id": "655039d2",
   "metadata": {},
   "outputs": [
    {
     "name": "stdout",
     "output_type": "stream",
     "text": [
      "            0         1         2         3         4         5         6   \\\n",
      "1569 -0.730511 -2.003991 -1.069116  0.573024  0.119204  1.717111  0.824796   \n",
      "3238 -1.896448 -1.472325 -0.873939  1.487344 -0.190490  1.669372  1.085598   \n",
      "3257 -1.936889 -1.476772 -0.929809  0.676508  0.178700  1.484288  0.372530   \n",
      "3301 -1.065851 -1.791722 -0.609138 -0.392875 -0.789546 -0.015352  0.201867   \n",
      "4747  1.081709 -1.264188 -0.978274 -1.215437 -0.475434 -0.093871  0.908365   \n",
      "\n",
      "            7         8         9     ...           90        91        92  \\\n",
      "1569  0.096974  0.067021  1.319759    ...    -0.023323 -0.295685  0.084474   \n",
      "3238  0.913268 -0.362688  2.163835    ...    -0.104656 -0.037896  0.015459   \n",
      "3257  0.441572 -0.123229  1.261852    ...    -0.124035 -0.149829  0.122697   \n",
      "3301 -1.095216 -0.271233  0.110901    ...    -0.163520  0.036292 -0.566810   \n",
      "4747  0.100539 -0.002269 -0.383573    ...     0.008015  0.117902 -0.444247   \n",
      "\n",
      "            93        94        95        96        97        98        99  \n",
      "1569  0.110622 -0.125776  0.017890 -0.014710  0.175412  0.101748  0.265123  \n",
      "3238  0.113894 -0.266555  0.074452  0.144552  0.105295  0.403149 -0.080770  \n",
      "3257  0.116706 -0.337613 -0.086376  0.098183  0.170715  0.595385 -0.031513  \n",
      "3301 -0.492077 -0.073221 -0.182733 -0.238863  0.097948  0.093599  0.241736  \n",
      "4747  0.254068  0.304323 -0.126150  0.014107  0.098087 -0.373892  0.298345  \n",
      "\n",
      "[5 rows x 100 columns]\n"
     ]
    }
   ],
   "source": [
    "print(X.head())"
   ]
  },
  {
   "cell_type": "code",
   "execution_count": 13,
   "id": "d82fc2f5",
   "metadata": {},
   "outputs": [
    {
     "name": "stdout",
     "output_type": "stream",
     "text": [
      "(353, 100)\n"
     ]
    }
   ],
   "source": [
    "print(X.shape)"
   ]
  },
  {
   "cell_type": "code",
   "execution_count": 14,
   "id": "c0ec071f",
   "metadata": {},
   "outputs": [
    {
     "name": "stdout",
     "output_type": "stream",
     "text": [
      "                  t<10 10<=t<40 t>=40 p<1 1<=p<3.5 3.5<=p<100 p>=100  \\\n",
      "Transformation_ID                                                      \n",
      "1569                 0        0     0   0        0          0      0   \n",
      "1569                 0        1     0   0        0          0      0   \n",
      "1569                 0        0     0   0        0          0      0   \n",
      "3238                 0        0     0   0        0          0      0   \n",
      "3257                 0        0     0   0        1          0      0   \n",
      "\n",
      "                  Ethaneperoxoic acid Acetic acid  \\\n",
      "Transformation_ID                                   \n",
      "1569                                0           0   \n",
      "1569                                0           0   \n",
      "1569                                0           0   \n",
      "3238                                0           0   \n",
      "3257                                0           0   \n",
      "\n",
      "                  (7,7-dimethyl-2-oxo-1-bicyclo[2.2.1]heptanyl)methanesulfonic acid  \\\n",
      "Transformation_ID                                                                     \n",
      "1569                                                               0                  \n",
      "1569                                                               0                  \n",
      "1569                                                               0                  \n",
      "3238                                                               0                  \n",
      "3257                                                               0                  \n",
      "\n",
      "                               ...              Ruthenium on titanium dioxide  \\\n",
      "Transformation_ID              ...                                              \n",
      "1569                           ...                                          0   \n",
      "1569                           ...                                          0   \n",
      "1569                           ...                                          0   \n",
      "3238                           ...                                          0   \n",
      "3257                           ...                                          0   \n",
      "\n",
      "                  Dodecacarbonyltriruthenium Ruthenium (iv) oxide  \\\n",
      "Transformation_ID                                                   \n",
      "1569                                       0                    0   \n",
      "1569                                       0                    0   \n",
      "1569                                       0                    0   \n",
      "3238                                       0                    0   \n",
      "3257                                       0                    0   \n",
      "\n",
      "                  Ruthenium catalyst Urushibara nickel  \\\n",
      "Transformation_ID                                        \n",
      "1569                               0                 0   \n",
      "1569                               0                 0   \n",
      "1569                               0                 0   \n",
      "3238                               0                 0   \n",
      "3257                               0                 0   \n",
      "\n",
      "                  Palladium acetate on alumina calcined  \\\n",
      "Transformation_ID                                         \n",
      "1569                                                  0   \n",
      "1569                                                  0   \n",
      "1569                                                  0   \n",
      "3238                                                  0   \n",
      "3257                                                  0   \n",
      "\n",
      "                  Chiral iridium complex of type PIr(N)(COD) + BArF-  \\\n",
      "Transformation_ID                                                      \n",
      "1569                                                               0   \n",
      "1569                                                               0   \n",
      "1569                                                               0   \n",
      "3238                                                               0   \n",
      "3257                                                               0   \n",
      "\n",
      "                  Palladium dihydroxide Palladium on aluminum hydroxide  \\\n",
      "Transformation_ID                                                         \n",
      "1569                                  0                               0   \n",
      "1569                                  0                               0   \n",
      "1569                                  0                               0   \n",
      "3238                                  1                               0   \n",
      "3257                                  0                               0   \n",
      "\n",
      "                  Palladium on barium hydroxide  \n",
      "Transformation_ID                                \n",
      "1569                                          0  \n",
      "1569                                          0  \n",
      "1569                                          0  \n",
      "3238                                          0  \n",
      "3257                                          0  \n",
      "\n",
      "[5 rows x 365 columns]\n"
     ]
    }
   ],
   "source": [
    "print(y.head())"
   ]
  },
  {
   "cell_type": "code",
   "execution_count": 15,
   "id": "6ceb7626",
   "metadata": {},
   "outputs": [
    {
     "name": "stdout",
     "output_type": "stream",
     "text": [
      "(394, 365)\n"
     ]
    }
   ],
   "source": [
    "print(y.shape)"
   ]
  },
  {
   "cell_type": "markdown",
   "id": "cda63a59",
   "metadata": {},
   "source": [
    "It is necessary to join and split X and y before fitting models because for one transformation may be many conditions and convert index to MultiIndex for convenience."
   ]
  },
  {
   "cell_type": "code",
   "execution_count": 16,
   "id": "fee5f3bb",
   "metadata": {},
   "outputs": [],
   "source": [
    "X_train, y_train = training_data_preparation(\n",
    "    X, \n",
    "    y, \n",
    "    x_final_filename=\"x_descriptors_final.pickle\", \n",
    "    y_final_filename=\"y_final.pickle\",\n",
    "    number_t_bins=number_t_bins,\n",
    "    number_p_bins=number_p_bins,\n",
    "    number_acids_bases_poisons=number_acids_bases_poisons,\n",
    "    number_catalysts=number_catalysts)"
   ]
  },
  {
   "cell_type": "code",
   "execution_count": 17,
   "id": "f7dcbd8c",
   "metadata": {},
   "outputs": [
    {
     "name": "stdout",
     "output_type": "stream",
     "text": [
      "(394, 100)\n"
     ]
    }
   ],
   "source": [
    "print(X_train.shape)"
   ]
  },
  {
   "cell_type": "code",
   "execution_count": 18,
   "id": "30d421f7",
   "metadata": {},
   "outputs": [
    {
     "name": "stdout",
     "output_type": "stream",
     "text": [
      "(394, 365)\n"
     ]
    }
   ],
   "source": [
    "print(y_train.shape)"
   ]
  },
  {
   "cell_type": "code",
   "execution_count": 19,
   "id": "d3e8c5b5",
   "metadata": {},
   "outputs": [
    {
     "data": {
      "text/html": [
       "<div>\n",
       "<style scoped>\n",
       "    .dataframe tbody tr th:only-of-type {\n",
       "        vertical-align: middle;\n",
       "    }\n",
       "\n",
       "    .dataframe tbody tr th {\n",
       "        vertical-align: top;\n",
       "    }\n",
       "\n",
       "    .dataframe thead tr th {\n",
       "        text-align: left;\n",
       "    }\n",
       "</style>\n",
       "<table border=\"1\" class=\"dataframe\">\n",
       "  <thead>\n",
       "    <tr>\n",
       "      <th>categories</th>\n",
       "      <th colspan=\"3\" halign=\"left\">t</th>\n",
       "      <th colspan=\"4\" halign=\"left\">p</th>\n",
       "      <th colspan=\"3\" halign=\"left\">acids_bases_poisons</th>\n",
       "      <th>...</th>\n",
       "      <th colspan=\"10\" halign=\"left\">catalysts</th>\n",
       "    </tr>\n",
       "    <tr>\n",
       "      <th>names</th>\n",
       "      <th>t&lt;10</th>\n",
       "      <th>10&lt;=t&lt;40</th>\n",
       "      <th>t&gt;=40</th>\n",
       "      <th>p&lt;1</th>\n",
       "      <th>1&lt;=p&lt;3.5</th>\n",
       "      <th>3.5&lt;=p&lt;100</th>\n",
       "      <th>p&gt;=100</th>\n",
       "      <th>Ethaneperoxoic acid</th>\n",
       "      <th>Acetic acid</th>\n",
       "      <th>(7,7-dimethyl-2-oxo-1-bicyclo[2.2.1]heptanyl)methanesulfonic acid</th>\n",
       "      <th>...</th>\n",
       "      <th>Ruthenium on titanium dioxide</th>\n",
       "      <th>Dodecacarbonyltriruthenium</th>\n",
       "      <th>Ruthenium (iv) oxide</th>\n",
       "      <th>Ruthenium catalyst</th>\n",
       "      <th>Urushibara nickel</th>\n",
       "      <th>Palladium acetate on alumina calcined</th>\n",
       "      <th>Chiral iridium complex of type PIr(N)(COD) + BArF-</th>\n",
       "      <th>Palladium dihydroxide</th>\n",
       "      <th>Palladium on aluminum hydroxide</th>\n",
       "      <th>Palladium on barium hydroxide</th>\n",
       "    </tr>\n",
       "  </thead>\n",
       "  <tbody>\n",
       "    <tr>\n",
       "      <th>100341</th>\n",
       "      <td>0</td>\n",
       "      <td>0</td>\n",
       "      <td>0</td>\n",
       "      <td>0</td>\n",
       "      <td>0</td>\n",
       "      <td>0</td>\n",
       "      <td>0</td>\n",
       "      <td>0</td>\n",
       "      <td>0</td>\n",
       "      <td>0</td>\n",
       "      <td>...</td>\n",
       "      <td>0</td>\n",
       "      <td>0</td>\n",
       "      <td>0</td>\n",
       "      <td>0</td>\n",
       "      <td>0</td>\n",
       "      <td>0</td>\n",
       "      <td>0</td>\n",
       "      <td>0</td>\n",
       "      <td>0</td>\n",
       "      <td>0</td>\n",
       "    </tr>\n",
       "    <tr>\n",
       "      <th>100381</th>\n",
       "      <td>0</td>\n",
       "      <td>1</td>\n",
       "      <td>0</td>\n",
       "      <td>0</td>\n",
       "      <td>0</td>\n",
       "      <td>0</td>\n",
       "      <td>0</td>\n",
       "      <td>0</td>\n",
       "      <td>0</td>\n",
       "      <td>0</td>\n",
       "      <td>...</td>\n",
       "      <td>0</td>\n",
       "      <td>0</td>\n",
       "      <td>0</td>\n",
       "      <td>0</td>\n",
       "      <td>0</td>\n",
       "      <td>0</td>\n",
       "      <td>0</td>\n",
       "      <td>0</td>\n",
       "      <td>0</td>\n",
       "      <td>0</td>\n",
       "    </tr>\n",
       "    <tr>\n",
       "      <th>100381</th>\n",
       "      <td>0</td>\n",
       "      <td>0</td>\n",
       "      <td>0</td>\n",
       "      <td>0</td>\n",
       "      <td>0</td>\n",
       "      <td>0</td>\n",
       "      <td>0</td>\n",
       "      <td>0</td>\n",
       "      <td>0</td>\n",
       "      <td>0</td>\n",
       "      <td>...</td>\n",
       "      <td>0</td>\n",
       "      <td>0</td>\n",
       "      <td>0</td>\n",
       "      <td>0</td>\n",
       "      <td>0</td>\n",
       "      <td>0</td>\n",
       "      <td>0</td>\n",
       "      <td>0</td>\n",
       "      <td>0</td>\n",
       "      <td>0</td>\n",
       "    </tr>\n",
       "    <tr>\n",
       "      <th>100381</th>\n",
       "      <td>0</td>\n",
       "      <td>0</td>\n",
       "      <td>0</td>\n",
       "      <td>0</td>\n",
       "      <td>0</td>\n",
       "      <td>0</td>\n",
       "      <td>0</td>\n",
       "      <td>0</td>\n",
       "      <td>1</td>\n",
       "      <td>0</td>\n",
       "      <td>...</td>\n",
       "      <td>0</td>\n",
       "      <td>0</td>\n",
       "      <td>0</td>\n",
       "      <td>0</td>\n",
       "      <td>0</td>\n",
       "      <td>0</td>\n",
       "      <td>0</td>\n",
       "      <td>0</td>\n",
       "      <td>0</td>\n",
       "      <td>0</td>\n",
       "    </tr>\n",
       "    <tr>\n",
       "      <th>1004111</th>\n",
       "      <td>0</td>\n",
       "      <td>1</td>\n",
       "      <td>0</td>\n",
       "      <td>0</td>\n",
       "      <td>0</td>\n",
       "      <td>0</td>\n",
       "      <td>0</td>\n",
       "      <td>0</td>\n",
       "      <td>0</td>\n",
       "      <td>0</td>\n",
       "      <td>...</td>\n",
       "      <td>0</td>\n",
       "      <td>0</td>\n",
       "      <td>0</td>\n",
       "      <td>0</td>\n",
       "      <td>0</td>\n",
       "      <td>0</td>\n",
       "      <td>0</td>\n",
       "      <td>0</td>\n",
       "      <td>0</td>\n",
       "      <td>0</td>\n",
       "    </tr>\n",
       "  </tbody>\n",
       "</table>\n",
       "<p>5 rows × 365 columns</p>\n",
       "</div>"
      ],
      "text/plain": [
       "categories    t                  p                             \\\n",
       "names      t<10 10<=t<40 t>=40 p<1 1<=p<3.5 3.5<=p<100 p>=100   \n",
       "100341        0        0     0   0        0          0      0   \n",
       "100381        0        1     0   0        0          0      0   \n",
       "100381        0        0     0   0        0          0      0   \n",
       "100381        0        0     0   0        0          0      0   \n",
       "1004111       0        1     0   0        0          0      0   \n",
       "\n",
       "categories acids_bases_poisons              \\\n",
       "names      Ethaneperoxoic acid Acetic acid   \n",
       "100341                       0           0   \n",
       "100381                       0           0   \n",
       "100381                       0           0   \n",
       "100381                       0           1   \n",
       "1004111                      0           0   \n",
       "\n",
       "categories                                                                    \\\n",
       "names      (7,7-dimethyl-2-oxo-1-bicyclo[2.2.1]heptanyl)methanesulfonic acid   \n",
       "100341                                                      0                  \n",
       "100381                                                      0                  \n",
       "100381                                                      0                  \n",
       "100381                                                      0                  \n",
       "1004111                                                     0                  \n",
       "\n",
       "categories              ...                                  catalysts  \\\n",
       "names                   ...              Ruthenium on titanium dioxide   \n",
       "100341                  ...                                          0   \n",
       "100381                  ...                                          0   \n",
       "100381                  ...                                          0   \n",
       "100381                  ...                                          0   \n",
       "1004111                 ...                                          0   \n",
       "\n",
       "categories                                                                     \\\n",
       "names      Dodecacarbonyltriruthenium Ruthenium (iv) oxide Ruthenium catalyst   \n",
       "100341                              0                    0                  0   \n",
       "100381                              0                    0                  0   \n",
       "100381                              0                    0                  0   \n",
       "100381                              0                    0                  0   \n",
       "1004111                             0                    0                  0   \n",
       "\n",
       "categories                                                          \\\n",
       "names      Urushibara nickel Palladium acetate on alumina calcined   \n",
       "100341                     0                                     0   \n",
       "100381                     0                                     0   \n",
       "100381                     0                                     0   \n",
       "100381                     0                                     0   \n",
       "1004111                    0                                     0   \n",
       "\n",
       "categories                                                     \\\n",
       "names      Chiral iridium complex of type PIr(N)(COD) + BArF-   \n",
       "100341                                                      0   \n",
       "100381                                                      0   \n",
       "100381                                                      0   \n",
       "100381                                                      0   \n",
       "1004111                                                     0   \n",
       "\n",
       "categories                                                        \\\n",
       "names      Palladium dihydroxide Palladium on aluminum hydroxide   \n",
       "100341                         0                               0   \n",
       "100381                         0                               0   \n",
       "100381                         0                               0   \n",
       "100381                         0                               0   \n",
       "1004111                        0                               0   \n",
       "\n",
       "categories                                \n",
       "names      Palladium on barium hydroxide  \n",
       "100341                                 0  \n",
       "100381                                 0  \n",
       "100381                                 0  \n",
       "100381                                 0  \n",
       "1004111                                0  \n",
       "\n",
       "[5 rows x 365 columns]"
      ]
     },
     "execution_count": 19,
     "metadata": {},
     "output_type": "execute_result"
    }
   ],
   "source": [
    "y_train.head()"
   ]
  },
  {
   "cell_type": "markdown",
   "id": "8ab12ea3",
   "metadata": {},
   "source": [
    "## Embedded model"
   ]
  },
  {
   "cell_type": "markdown",
   "id": "c69aeeb6",
   "metadata": {},
   "source": [
    "An embedded model - a pre-trained model with an architecture like the LRM model from our previous paper [[link]](https://doi.org/10.3390/ijms23010248) - will be used as a part of our other models - g-CVAE, rnf-CVAE and h-CVAE."
   ]
  },
  {
   "cell_type": "code",
   "execution_count": 20,
   "id": "0129386b-ac8f-4c50-90bf-01091d3a6787",
   "metadata": {},
   "outputs": [],
   "source": [
    "embedded_model = get_emb_model(in_dim=100, out_dim=365)"
   ]
  },
  {
   "cell_type": "code",
   "execution_count": 21,
   "id": "e315edbd-41d9-44d9-8797-3fc6178d7ae7",
   "metadata": {},
   "outputs": [
    {
     "name": "stdout",
     "output_type": "stream",
     "text": [
      "Train on 394 samples\n",
      "394/394 [==============================] - 0s 824us/sample - loss: 0.0656 - acc: 0.9766\n"
     ]
    },
    {
     "data": {
      "text/plain": [
       "<tensorflow.python.keras.callbacks.History at 0x7fb9cc9b8518>"
      ]
     },
     "execution_count": 21,
     "metadata": {},
     "output_type": "execute_result"
    }
   ],
   "source": [
    "embedded_model.fit(X_train, y_train, batch_size=10, epochs=1)"
   ]
  },
  {
   "cell_type": "code",
   "execution_count": 22,
   "id": "88a809f7-9d29-4e3d-bf81-0cccd14dd62e",
   "metadata": {},
   "outputs": [],
   "source": [
    "embedded_model.save('embedded_model.h5')"
   ]
  },
  {
   "cell_type": "markdown",
   "id": "22522c63-070b-4a49-acee-ee1fd24d174f",
   "metadata": {},
   "source": [
    "## g-CVAE model (with Gauss random distribution)"
   ]
  },
  {
   "cell_type": "markdown",
   "id": "fd89ced8",
   "metadata": {},
   "source": [
    "### Build and fit model"
   ]
  },
  {
   "cell_type": "code",
   "execution_count": 23,
   "id": "72104321-075e-4d7b-8261-d255c61807dd",
   "metadata": {},
   "outputs": [],
   "source": [
    "gauss_model, decoder = get_gauss_model(\n",
    "    trained_emb_model_path='embedded_model.h5', \n",
    "    in_dim=100, \n",
    "    out_dim=365, \n",
    "    temperature_dim=3,\n",
    "    pressure_dim=4,\n",
    "    adds_dim=131,\n",
    "    catalyst_dim=227)"
   ]
  },
  {
   "cell_type": "code",
   "execution_count": 24,
   "id": "84f7f752-6364-42ac-b5c7-a10222e597e3",
   "metadata": {},
   "outputs": [
    {
     "name": "stdout",
     "output_type": "stream",
     "text": [
      "Train on 394 samples\n",
      "394/394 [==============================] - 1s 3ms/sample - loss: 20.7098 - model_3_loss: 0.5125 - model_3_1_loss: 0.5512 - model_3_2_loss: 18.7480 - model_3_3_loss: 0.6325\n"
     ]
    },
    {
     "data": {
      "text/plain": [
       "<tensorflow.python.keras.callbacks.History at 0x7fb9cc9648d0>"
      ]
     },
     "execution_count": 24,
     "metadata": {},
     "output_type": "execute_result"
    }
   ],
   "source": [
    "gauss_model.fit([X_train, y_train], \n",
    "                [y_train['t'], y_train['p'], \n",
    "                y_train['acids_bases_poisons'], y_train['catalysts']], \n",
    "                batch_size=10, epochs=1)"
   ]
  },
  {
   "cell_type": "markdown",
   "id": "99f550da",
   "metadata": {},
   "source": [
    "### Prediction"
   ]
  },
  {
   "cell_type": "code",
   "execution_count": 25,
   "id": "6c6d1d5e-cc03-4221-be04-30d80938abac",
   "metadata": {},
   "outputs": [
    {
     "name": "stdout",
     "output_type": "stream",
     "text": [
      "100/100"
     ]
    }
   ],
   "source": [
    "top_ans = generate_gauss(X, decoder, adds_dim=131, catalyst_dim=227, pressure_dim=4, temperature_dim=3, s=100, top_k=10)"
   ]
  },
  {
   "cell_type": "code",
   "execution_count": 26,
   "id": "23f19225",
   "metadata": {},
   "outputs": [
    {
     "data": {
      "text/plain": [
       "(353, 10, 134)"
      ]
     },
     "execution_count": 26,
     "metadata": {},
     "output_type": "execute_result"
    }
   ],
   "source": [
    "top_ans.shape"
   ]
  },
  {
   "cell_type": "code",
   "execution_count": 27,
   "id": "a4d6e15e",
   "metadata": {},
   "outputs": [],
   "source": [
    "predictions = convert_predictions(top_ans, X, y_train.columns)"
   ]
  },
  {
   "cell_type": "code",
   "execution_count": 28,
   "id": "1ff29bae",
   "metadata": {},
   "outputs": [
    {
     "data": {
      "text/html": [
       "<div>\n",
       "<style scoped>\n",
       "    .dataframe tbody tr th:only-of-type {\n",
       "        vertical-align: middle;\n",
       "    }\n",
       "\n",
       "    .dataframe tbody tr th {\n",
       "        vertical-align: top;\n",
       "    }\n",
       "\n",
       "    .dataframe thead th {\n",
       "        text-align: right;\n",
       "    }\n",
       "</style>\n",
       "<table border=\"1\" class=\"dataframe\">\n",
       "  <thead>\n",
       "    <tr style=\"text-align: right;\">\n",
       "      <th>ranks</th>\n",
       "      <th>1</th>\n",
       "      <th>2</th>\n",
       "      <th>3</th>\n",
       "      <th>4</th>\n",
       "      <th>5</th>\n",
       "      <th>6</th>\n",
       "      <th>7</th>\n",
       "      <th>8</th>\n",
       "      <th>9</th>\n",
       "      <th>10</th>\n",
       "    </tr>\n",
       "    <tr>\n",
       "      <th>Transformation_ID</th>\n",
       "      <th></th>\n",
       "      <th></th>\n",
       "      <th></th>\n",
       "      <th></th>\n",
       "      <th></th>\n",
       "      <th></th>\n",
       "      <th></th>\n",
       "      <th></th>\n",
       "      <th></th>\n",
       "      <th></th>\n",
       "    </tr>\n",
       "  </thead>\n",
       "  <tbody>\n",
       "    <tr>\n",
       "      <th>1569</th>\n",
       "      <td>10&lt;=t&lt;40, p&gt;=100, Palladium on activated carbon</td>\n",
       "      <td>10&lt;=t&lt;40, p&gt;=100, Palladium on activated carbon</td>\n",
       "      <td>10&lt;=t&lt;40, p&gt;=100, Palladium on activated carbon</td>\n",
       "      <td>10&lt;=t&lt;40, p&gt;=100, Palladium on activated carbon</td>\n",
       "      <td>10&lt;=t&lt;40, p&gt;=100, Palladium on activated carbon</td>\n",
       "      <td>10&lt;=t&lt;40, p&gt;=100, Palladium on activated carbon</td>\n",
       "      <td>10&lt;=t&lt;40, p&gt;=100, Palladium on activated carbon</td>\n",
       "      <td>10&lt;=t&lt;40, p&gt;=100, Palladium on activated carbon</td>\n",
       "      <td>10&lt;=t&lt;40, p&gt;=100, Palladium on activated carbon</td>\n",
       "      <td>10&lt;=t&lt;40, p&gt;=100, Palladium on activated carbon</td>\n",
       "    </tr>\n",
       "    <tr>\n",
       "      <th>3238</th>\n",
       "      <td>10&lt;=t&lt;40, p&gt;=100, Palladium on activated carbon</td>\n",
       "      <td>10&lt;=t&lt;40, p&gt;=100, Palladium on activated carbon</td>\n",
       "      <td>10&lt;=t&lt;40, p&gt;=100, Palladium on activated carbon</td>\n",
       "      <td>10&lt;=t&lt;40, p&gt;=100, Palladium on activated carbon</td>\n",
       "      <td>10&lt;=t&lt;40, p&gt;=100, Palladium on activated carbon</td>\n",
       "      <td>10&lt;=t&lt;40, p&gt;=100, Palladium on activated carbon</td>\n",
       "      <td>10&lt;=t&lt;40, p&gt;=100, Palladium on activated carbon</td>\n",
       "      <td>10&lt;=t&lt;40, p&gt;=100, Palladium on activated carbon</td>\n",
       "      <td>10&lt;=t&lt;40, p&gt;=100, Palladium on activated carbon</td>\n",
       "      <td>10&lt;=t&lt;40, p&gt;=100, Palladium on activated carbon</td>\n",
       "    </tr>\n",
       "    <tr>\n",
       "      <th>3257</th>\n",
       "      <td>10&lt;=t&lt;40, p&gt;=100, Palladium on activated carbon</td>\n",
       "      <td>10&lt;=t&lt;40, p&gt;=100, Palladium on activated carbon</td>\n",
       "      <td>10&lt;=t&lt;40, p&gt;=100, Palladium on activated carbon</td>\n",
       "      <td>10&lt;=t&lt;40, p&gt;=100, Palladium on activated carbon</td>\n",
       "      <td>10&lt;=t&lt;40, p&gt;=100, Palladium on activated carbon</td>\n",
       "      <td>10&lt;=t&lt;40, p&gt;=100, Palladium on activated carbon</td>\n",
       "      <td>10&lt;=t&lt;40, p&gt;=100, Palladium on activated carbon</td>\n",
       "      <td>10&lt;=t&lt;40, p&gt;=100, Palladium on activated carbon</td>\n",
       "      <td>10&lt;=t&lt;40, p&gt;=100, Palladium on activated carbon</td>\n",
       "      <td>10&lt;=t&lt;40, p&gt;=100, Palladium on activated carbon</td>\n",
       "    </tr>\n",
       "    <tr>\n",
       "      <th>3301</th>\n",
       "      <td>10&lt;=t&lt;40, p&gt;=100, Palladium on activated carbon</td>\n",
       "      <td>10&lt;=t&lt;40, p&gt;=100, Palladium on activated carbon</td>\n",
       "      <td>10&lt;=t&lt;40, p&gt;=100, Palladium on activated carbon</td>\n",
       "      <td>10&lt;=t&lt;40, p&gt;=100, Palladium on activated carbon</td>\n",
       "      <td>10&lt;=t&lt;40, p&gt;=100, Palladium on activated carbon</td>\n",
       "      <td>10&lt;=t&lt;40, p&gt;=100, Palladium on activated carbon</td>\n",
       "      <td>10&lt;=t&lt;40, p&gt;=100, Palladium on activated carbon</td>\n",
       "      <td>10&lt;=t&lt;40, p&gt;=100, Palladium on activated carbon</td>\n",
       "      <td>10&lt;=t&lt;40, p&gt;=100, Palladium on activated carbon</td>\n",
       "      <td>10&lt;=t&lt;40, p&gt;=100, Palladium on activated carbon</td>\n",
       "    </tr>\n",
       "    <tr>\n",
       "      <th>4747</th>\n",
       "      <td>t&gt;=40, p&gt;=100, Palladium on activated carbon</td>\n",
       "      <td>t&gt;=40, p&gt;=100, Palladium on activated carbon</td>\n",
       "      <td>t&gt;=40, p&gt;=100, Palladium on activated carbon</td>\n",
       "      <td>t&gt;=40, p&gt;=100, Palladium on activated carbon</td>\n",
       "      <td>t&gt;=40, p&gt;=100, Palladium on activated carbon</td>\n",
       "      <td>t&gt;=40, p&gt;=100, Palladium on activated carbon</td>\n",
       "      <td>t&gt;=40, p&gt;=100, Palladium on activated carbon</td>\n",
       "      <td>t&gt;=40, p&gt;=100, Palladium on activated carbon</td>\n",
       "      <td>t&gt;=40, p&gt;=100, Palladium on activated carbon</td>\n",
       "      <td>t&gt;=40, p&gt;=100, Palladium on activated carbon</td>\n",
       "    </tr>\n",
       "  </tbody>\n",
       "</table>\n",
       "</div>"
      ],
      "text/plain": [
       "ranks                                                           1   \\\n",
       "Transformation_ID                                                    \n",
       "1569               10<=t<40, p>=100, Palladium on activated carbon   \n",
       "3238               10<=t<40, p>=100, Palladium on activated carbon   \n",
       "3257               10<=t<40, p>=100, Palladium on activated carbon   \n",
       "3301               10<=t<40, p>=100, Palladium on activated carbon   \n",
       "4747                  t>=40, p>=100, Palladium on activated carbon   \n",
       "\n",
       "ranks                                                           2   \\\n",
       "Transformation_ID                                                    \n",
       "1569               10<=t<40, p>=100, Palladium on activated carbon   \n",
       "3238               10<=t<40, p>=100, Palladium on activated carbon   \n",
       "3257               10<=t<40, p>=100, Palladium on activated carbon   \n",
       "3301               10<=t<40, p>=100, Palladium on activated carbon   \n",
       "4747                  t>=40, p>=100, Palladium on activated carbon   \n",
       "\n",
       "ranks                                                           3   \\\n",
       "Transformation_ID                                                    \n",
       "1569               10<=t<40, p>=100, Palladium on activated carbon   \n",
       "3238               10<=t<40, p>=100, Palladium on activated carbon   \n",
       "3257               10<=t<40, p>=100, Palladium on activated carbon   \n",
       "3301               10<=t<40, p>=100, Palladium on activated carbon   \n",
       "4747                  t>=40, p>=100, Palladium on activated carbon   \n",
       "\n",
       "ranks                                                           4   \\\n",
       "Transformation_ID                                                    \n",
       "1569               10<=t<40, p>=100, Palladium on activated carbon   \n",
       "3238               10<=t<40, p>=100, Palladium on activated carbon   \n",
       "3257               10<=t<40, p>=100, Palladium on activated carbon   \n",
       "3301               10<=t<40, p>=100, Palladium on activated carbon   \n",
       "4747                  t>=40, p>=100, Palladium on activated carbon   \n",
       "\n",
       "ranks                                                           5   \\\n",
       "Transformation_ID                                                    \n",
       "1569               10<=t<40, p>=100, Palladium on activated carbon   \n",
       "3238               10<=t<40, p>=100, Palladium on activated carbon   \n",
       "3257               10<=t<40, p>=100, Palladium on activated carbon   \n",
       "3301               10<=t<40, p>=100, Palladium on activated carbon   \n",
       "4747                  t>=40, p>=100, Palladium on activated carbon   \n",
       "\n",
       "ranks                                                           6   \\\n",
       "Transformation_ID                                                    \n",
       "1569               10<=t<40, p>=100, Palladium on activated carbon   \n",
       "3238               10<=t<40, p>=100, Palladium on activated carbon   \n",
       "3257               10<=t<40, p>=100, Palladium on activated carbon   \n",
       "3301               10<=t<40, p>=100, Palladium on activated carbon   \n",
       "4747                  t>=40, p>=100, Palladium on activated carbon   \n",
       "\n",
       "ranks                                                           7   \\\n",
       "Transformation_ID                                                    \n",
       "1569               10<=t<40, p>=100, Palladium on activated carbon   \n",
       "3238               10<=t<40, p>=100, Palladium on activated carbon   \n",
       "3257               10<=t<40, p>=100, Palladium on activated carbon   \n",
       "3301               10<=t<40, p>=100, Palladium on activated carbon   \n",
       "4747                  t>=40, p>=100, Palladium on activated carbon   \n",
       "\n",
       "ranks                                                           8   \\\n",
       "Transformation_ID                                                    \n",
       "1569               10<=t<40, p>=100, Palladium on activated carbon   \n",
       "3238               10<=t<40, p>=100, Palladium on activated carbon   \n",
       "3257               10<=t<40, p>=100, Palladium on activated carbon   \n",
       "3301               10<=t<40, p>=100, Palladium on activated carbon   \n",
       "4747                  t>=40, p>=100, Palladium on activated carbon   \n",
       "\n",
       "ranks                                                           9   \\\n",
       "Transformation_ID                                                    \n",
       "1569               10<=t<40, p>=100, Palladium on activated carbon   \n",
       "3238               10<=t<40, p>=100, Palladium on activated carbon   \n",
       "3257               10<=t<40, p>=100, Palladium on activated carbon   \n",
       "3301               10<=t<40, p>=100, Palladium on activated carbon   \n",
       "4747                  t>=40, p>=100, Palladium on activated carbon   \n",
       "\n",
       "ranks                                                           10  \n",
       "Transformation_ID                                                   \n",
       "1569               10<=t<40, p>=100, Palladium on activated carbon  \n",
       "3238               10<=t<40, p>=100, Palladium on activated carbon  \n",
       "3257               10<=t<40, p>=100, Palladium on activated carbon  \n",
       "3301               10<=t<40, p>=100, Palladium on activated carbon  \n",
       "4747                  t>=40, p>=100, Palladium on activated carbon  "
      ]
     },
     "execution_count": 28,
     "metadata": {},
     "output_type": "execute_result"
    }
   ],
   "source": [
    "predictions.head()"
   ]
  },
  {
   "cell_type": "code",
   "execution_count": 29,
   "id": "6ce724ae",
   "metadata": {},
   "outputs": [
    {
     "data": {
      "text/plain": [
       "ranks\n",
       "1     10<=t<40, p>=100, Palladium on activated carbon\n",
       "2     10<=t<40, p>=100, Palladium on activated carbon\n",
       "3     10<=t<40, p>=100, Palladium on activated carbon\n",
       "4     10<=t<40, p>=100, Palladium on activated carbon\n",
       "5     10<=t<40, p>=100, Palladium on activated carbon\n",
       "6     10<=t<40, p>=100, Palladium on activated carbon\n",
       "7     10<=t<40, p>=100, Palladium on activated carbon\n",
       "8     10<=t<40, p>=100, Palladium on activated carbon\n",
       "9     10<=t<40, p>=100, Palladium on activated carbon\n",
       "10    10<=t<40, p>=100, Palladium on activated carbon\n",
       "Name: 1569, dtype: object"
      ]
     },
     "execution_count": 29,
     "metadata": {},
     "output_type": "execute_result"
    }
   ],
   "source": [
    "predictions.loc['1569']"
   ]
  },
  {
   "cell_type": "code",
   "execution_count": 30,
   "id": "72b60f9d",
   "metadata": {},
   "outputs": [
    {
     "data": {
      "text/plain": [
       "'10<=t<40, p>=100, Palladium on activated carbon'"
      ]
     },
     "execution_count": 30,
     "metadata": {},
     "output_type": "execute_result"
    }
   ],
   "source": [
    "predictions.loc['1569', 1]"
   ]
  },
  {
   "cell_type": "markdown",
   "id": "d971237b-aa44-4bef-bfed-cbf46823320d",
   "metadata": {},
   "source": [
    "## rnf-CVAE model (with Riemannian Normalizing Flow distribution)"
   ]
  },
  {
   "cell_type": "markdown",
   "id": "0f5a2362",
   "metadata": {},
   "source": [
    "### Build and fit model"
   ]
  },
  {
   "cell_type": "code",
   "execution_count": 34,
   "id": "945894c1-a120-45f0-9f6e-1c5ccd8dca67",
   "metadata": {},
   "outputs": [],
   "source": [
    "rnf_model, decoder = get_rnf_gauss_model(\n",
    "    trained_emb_model_path='embedded_model.h5', in_dim=100, out_dim=365, adds_dim=131, catalyst_dim=227, pressure_dim=4, temperature_dim=3)"
   ]
  },
  {
   "cell_type": "code",
   "execution_count": 38,
   "id": "333f47a8-50ff-4783-a172-142e5f519de7",
   "metadata": {
    "scrolled": true,
    "tags": []
   },
   "outputs": [
    {
     "name": "stdout",
     "output_type": "stream",
     "text": [
      "-------------------------------------------------------------\n",
      "1\n",
      "-------------------------------------------------------------\n",
      "Train on 394 samples\n",
      " 10/394 [..............................] - ETA: 1s - loss: 5.9581 - model_11_loss: 0.4296 - model_11_1_loss: 0.5224 - model_11_2_loss: 0.3338 - model_11_3_loss: 0.2078"
     ]
    },
    {
     "name": "stdout",
     "output_type": "stream",
     "text": [
      "394/394 [==============================] - 1s 3ms/sample - loss: 6.5424 - model_11_loss: 0.4948 - model_11_1_loss: 0.5332 - model_11_2_loss: 0.7417 - model_11_3_loss: 0.2640\n"
     ]
    }
   ],
   "source": [
    "fit_rnf_gauss_model(rnf_model, epochs=1, batch_size=10, X_train=X_train.values, y_train=y.values, t_dim=3, p_dim=4, add_dim=131)"
   ]
  },
  {
   "cell_type": "markdown",
   "id": "fb5b2b8c",
   "metadata": {},
   "source": [
    "### Prediction"
   ]
  },
  {
   "cell_type": "code",
   "execution_count": 40,
   "id": "8e9e1ed7-a093-4d9e-b92f-f0ecbaab5b30",
   "metadata": {},
   "outputs": [
    {
     "name": "stdout",
     "output_type": "stream",
     "text": [
      "100/100"
     ]
    }
   ],
   "source": [
    "top_ans = generate_gauss(X, decoder, adds_dim=131, catalyst_dim=227, pressure_dim=4, temperature_dim=3, s=100, top_k=10)"
   ]
  },
  {
   "cell_type": "code",
   "execution_count": 41,
   "id": "f3bb61fd",
   "metadata": {},
   "outputs": [],
   "source": [
    "predictions = convert_predictions(\n",
    "    top_ans=top_ans,\n",
    "    X_test=X, \n",
    "    y_train_final_columns=y_train.columns,\n",
    "    id_field=\"Transformation_ID\"\n",
    "    )"
   ]
  },
  {
   "cell_type": "code",
   "execution_count": 43,
   "id": "36b4cc80",
   "metadata": {},
   "outputs": [
    {
     "data": {
      "text/html": [
       "<div>\n",
       "<style scoped>\n",
       "    .dataframe tbody tr th:only-of-type {\n",
       "        vertical-align: middle;\n",
       "    }\n",
       "\n",
       "    .dataframe tbody tr th {\n",
       "        vertical-align: top;\n",
       "    }\n",
       "\n",
       "    .dataframe thead th {\n",
       "        text-align: right;\n",
       "    }\n",
       "</style>\n",
       "<table border=\"1\" class=\"dataframe\">\n",
       "  <thead>\n",
       "    <tr style=\"text-align: right;\">\n",
       "      <th>ranks</th>\n",
       "      <th>1</th>\n",
       "      <th>2</th>\n",
       "      <th>3</th>\n",
       "      <th>4</th>\n",
       "      <th>5</th>\n",
       "      <th>6</th>\n",
       "      <th>7</th>\n",
       "      <th>8</th>\n",
       "      <th>9</th>\n",
       "      <th>10</th>\n",
       "    </tr>\n",
       "    <tr>\n",
       "      <th>Transformation_ID</th>\n",
       "      <th></th>\n",
       "      <th></th>\n",
       "      <th></th>\n",
       "      <th></th>\n",
       "      <th></th>\n",
       "      <th></th>\n",
       "      <th></th>\n",
       "      <th></th>\n",
       "      <th></th>\n",
       "      <th></th>\n",
       "    </tr>\n",
       "  </thead>\n",
       "  <tbody>\n",
       "    <tr>\n",
       "      <th>1333123</th>\n",
       "      <td>t&gt;=40, 3.5&lt;=p&lt;100, Palladium on activated carbon</td>\n",
       "      <td>10&lt;=t&lt;40, 3.5&lt;=p&lt;100, Palladium on activated c...</td>\n",
       "      <td>10&lt;=t&lt;40, 3.5&lt;=p&lt;100, Palladium on activated c...</td>\n",
       "      <td>10&lt;=t&lt;40, 3.5&lt;=p&lt;100, Palladium on activated c...</td>\n",
       "      <td>10&lt;=t&lt;40, 3.5&lt;=p&lt;100, Palladium on activated c...</td>\n",
       "      <td>10&lt;=t&lt;40, 3.5&lt;=p&lt;100, Palladium on activated c...</td>\n",
       "      <td>10&lt;=t&lt;40, 3.5&lt;=p&lt;100, Palladium on activated c...</td>\n",
       "      <td>10&lt;=t&lt;40, 3.5&lt;=p&lt;100, Palladium on activated c...</td>\n",
       "      <td>10&lt;=t&lt;40, 3.5&lt;=p&lt;100, Palladium on activated c...</td>\n",
       "      <td>10&lt;=t&lt;40, 3.5&lt;=p&lt;100, Palladium on activated c...</td>\n",
       "    </tr>\n",
       "    <tr>\n",
       "      <th>1335141</th>\n",
       "      <td>t&gt;=40, p&gt;=100, Palladium on activated carbon</td>\n",
       "      <td>t&gt;=40, p&gt;=100, Palladium on activated carbon</td>\n",
       "      <td>t&gt;=40, p&gt;=100, Palladium on activated carbon</td>\n",
       "      <td>t&gt;=40, p&gt;=100, Palladium on activated carbon</td>\n",
       "      <td>t&gt;=40, p&gt;=100, Palladium on activated carbon</td>\n",
       "      <td>t&gt;=40, p&gt;=100, Palladium on activated carbon</td>\n",
       "      <td>t&gt;=40, p&gt;=100, Palladium on activated carbon</td>\n",
       "      <td>t&gt;=40, p&gt;=100, Palladium on activated carbon</td>\n",
       "      <td>t&gt;=40, p&gt;=100, Palladium on activated carbon</td>\n",
       "      <td>t&gt;=40, p&gt;=100, Palladium on activated carbon</td>\n",
       "    </tr>\n",
       "    <tr>\n",
       "      <th>1336812</th>\n",
       "      <td>10&lt;=t&lt;40, 3.5&lt;=p&lt;100, Palladium on activated c...</td>\n",
       "      <td>t&gt;=40, 3.5&lt;=p&lt;100, Palladium on activated carbon</td>\n",
       "      <td>t&gt;=40, 3.5&lt;=p&lt;100, Palladium on activated carbon</td>\n",
       "      <td>t&gt;=40, 3.5&lt;=p&lt;100, Palladium on activated carbon</td>\n",
       "      <td>t&gt;=40, 3.5&lt;=p&lt;100, Palladium on activated carbon</td>\n",
       "      <td>t&gt;=40, 3.5&lt;=p&lt;100, Palladium on activated carbon</td>\n",
       "      <td>t&gt;=40, 3.5&lt;=p&lt;100, Palladium on activated carbon</td>\n",
       "      <td>t&gt;=40, 3.5&lt;=p&lt;100, Palladium on activated carbon</td>\n",
       "      <td>t&gt;=40, 3.5&lt;=p&lt;100, Palladium on activated carbon</td>\n",
       "      <td>t&gt;=40, 3.5&lt;=p&lt;100, Palladium on activated carbon</td>\n",
       "    </tr>\n",
       "    <tr>\n",
       "      <th>1339806</th>\n",
       "      <td>10&lt;=t&lt;40, p&gt;=100, Palladium on activated carbon</td>\n",
       "      <td>10&lt;=t&lt;40, p&gt;=100, Palladium on activated carbon</td>\n",
       "      <td>10&lt;=t&lt;40, p&gt;=100, Palladium on activated carbon</td>\n",
       "      <td>10&lt;=t&lt;40, p&gt;=100, Palladium on activated carbon</td>\n",
       "      <td>10&lt;=t&lt;40, p&gt;=100, Palladium on activated carbon</td>\n",
       "      <td>10&lt;=t&lt;40, p&gt;=100, Palladium on activated carbon</td>\n",
       "      <td>10&lt;=t&lt;40, p&gt;=100, Palladium on activated carbon</td>\n",
       "      <td>10&lt;=t&lt;40, p&gt;=100, Palladium on activated carbon</td>\n",
       "      <td>10&lt;=t&lt;40, p&gt;=100, Palladium on activated carbon</td>\n",
       "      <td>10&lt;=t&lt;40, p&gt;=100, Palladium on activated carbon</td>\n",
       "    </tr>\n",
       "    <tr>\n",
       "      <th>1339852</th>\n",
       "      <td>10&lt;=t&lt;40, p&gt;=100, Palladium on activated carbon</td>\n",
       "      <td>10&lt;=t&lt;40, 3.5&lt;=p&lt;100, Palladium on activated c...</td>\n",
       "      <td>10&lt;=t&lt;40, 3.5&lt;=p&lt;100, Palladium on activated c...</td>\n",
       "      <td>10&lt;=t&lt;40, 3.5&lt;=p&lt;100, Palladium on activated c...</td>\n",
       "      <td>10&lt;=t&lt;40, 3.5&lt;=p&lt;100, Palladium on activated c...</td>\n",
       "      <td>10&lt;=t&lt;40, 3.5&lt;=p&lt;100, Palladium on activated c...</td>\n",
       "      <td>10&lt;=t&lt;40, 3.5&lt;=p&lt;100, Palladium on activated c...</td>\n",
       "      <td>10&lt;=t&lt;40, 3.5&lt;=p&lt;100, Palladium on activated c...</td>\n",
       "      <td>10&lt;=t&lt;40, 3.5&lt;=p&lt;100, Palladium on activated c...</td>\n",
       "      <td>10&lt;=t&lt;40, 3.5&lt;=p&lt;100, Palladium on activated c...</td>\n",
       "    </tr>\n",
       "  </tbody>\n",
       "</table>\n",
       "</div>"
      ],
      "text/plain": [
       "ranks                                                             1   \\\n",
       "Transformation_ID                                                      \n",
       "1333123             t>=40, 3.5<=p<100, Palladium on activated carbon   \n",
       "1335141                 t>=40, p>=100, Palladium on activated carbon   \n",
       "1336812            10<=t<40, 3.5<=p<100, Palladium on activated c...   \n",
       "1339806              10<=t<40, p>=100, Palladium on activated carbon   \n",
       "1339852              10<=t<40, p>=100, Palladium on activated carbon   \n",
       "\n",
       "ranks                                                             2   \\\n",
       "Transformation_ID                                                      \n",
       "1333123            10<=t<40, 3.5<=p<100, Palladium on activated c...   \n",
       "1335141                 t>=40, p>=100, Palladium on activated carbon   \n",
       "1336812             t>=40, 3.5<=p<100, Palladium on activated carbon   \n",
       "1339806              10<=t<40, p>=100, Palladium on activated carbon   \n",
       "1339852            10<=t<40, 3.5<=p<100, Palladium on activated c...   \n",
       "\n",
       "ranks                                                             3   \\\n",
       "Transformation_ID                                                      \n",
       "1333123            10<=t<40, 3.5<=p<100, Palladium on activated c...   \n",
       "1335141                 t>=40, p>=100, Palladium on activated carbon   \n",
       "1336812             t>=40, 3.5<=p<100, Palladium on activated carbon   \n",
       "1339806              10<=t<40, p>=100, Palladium on activated carbon   \n",
       "1339852            10<=t<40, 3.5<=p<100, Palladium on activated c...   \n",
       "\n",
       "ranks                                                             4   \\\n",
       "Transformation_ID                                                      \n",
       "1333123            10<=t<40, 3.5<=p<100, Palladium on activated c...   \n",
       "1335141                 t>=40, p>=100, Palladium on activated carbon   \n",
       "1336812             t>=40, 3.5<=p<100, Palladium on activated carbon   \n",
       "1339806              10<=t<40, p>=100, Palladium on activated carbon   \n",
       "1339852            10<=t<40, 3.5<=p<100, Palladium on activated c...   \n",
       "\n",
       "ranks                                                             5   \\\n",
       "Transformation_ID                                                      \n",
       "1333123            10<=t<40, 3.5<=p<100, Palladium on activated c...   \n",
       "1335141                 t>=40, p>=100, Palladium on activated carbon   \n",
       "1336812             t>=40, 3.5<=p<100, Palladium on activated carbon   \n",
       "1339806              10<=t<40, p>=100, Palladium on activated carbon   \n",
       "1339852            10<=t<40, 3.5<=p<100, Palladium on activated c...   \n",
       "\n",
       "ranks                                                             6   \\\n",
       "Transformation_ID                                                      \n",
       "1333123            10<=t<40, 3.5<=p<100, Palladium on activated c...   \n",
       "1335141                 t>=40, p>=100, Palladium on activated carbon   \n",
       "1336812             t>=40, 3.5<=p<100, Palladium on activated carbon   \n",
       "1339806              10<=t<40, p>=100, Palladium on activated carbon   \n",
       "1339852            10<=t<40, 3.5<=p<100, Palladium on activated c...   \n",
       "\n",
       "ranks                                                             7   \\\n",
       "Transformation_ID                                                      \n",
       "1333123            10<=t<40, 3.5<=p<100, Palladium on activated c...   \n",
       "1335141                 t>=40, p>=100, Palladium on activated carbon   \n",
       "1336812             t>=40, 3.5<=p<100, Palladium on activated carbon   \n",
       "1339806              10<=t<40, p>=100, Palladium on activated carbon   \n",
       "1339852            10<=t<40, 3.5<=p<100, Palladium on activated c...   \n",
       "\n",
       "ranks                                                             8   \\\n",
       "Transformation_ID                                                      \n",
       "1333123            10<=t<40, 3.5<=p<100, Palladium on activated c...   \n",
       "1335141                 t>=40, p>=100, Palladium on activated carbon   \n",
       "1336812             t>=40, 3.5<=p<100, Palladium on activated carbon   \n",
       "1339806              10<=t<40, p>=100, Palladium on activated carbon   \n",
       "1339852            10<=t<40, 3.5<=p<100, Palladium on activated c...   \n",
       "\n",
       "ranks                                                             9   \\\n",
       "Transformation_ID                                                      \n",
       "1333123            10<=t<40, 3.5<=p<100, Palladium on activated c...   \n",
       "1335141                 t>=40, p>=100, Palladium on activated carbon   \n",
       "1336812             t>=40, 3.5<=p<100, Palladium on activated carbon   \n",
       "1339806              10<=t<40, p>=100, Palladium on activated carbon   \n",
       "1339852            10<=t<40, 3.5<=p<100, Palladium on activated c...   \n",
       "\n",
       "ranks                                                             10  \n",
       "Transformation_ID                                                     \n",
       "1333123            10<=t<40, 3.5<=p<100, Palladium on activated c...  \n",
       "1335141                 t>=40, p>=100, Palladium on activated carbon  \n",
       "1336812             t>=40, 3.5<=p<100, Palladium on activated carbon  \n",
       "1339806              10<=t<40, p>=100, Palladium on activated carbon  \n",
       "1339852            10<=t<40, 3.5<=p<100, Palladium on activated c...  "
      ]
     },
     "execution_count": 43,
     "metadata": {},
     "output_type": "execute_result"
    }
   ],
   "source": [
    "predictions.tail()"
   ]
  },
  {
   "cell_type": "code",
   "execution_count": 44,
   "id": "a975d1a2",
   "metadata": {},
   "outputs": [
    {
     "data": {
      "text/plain": [
       "ranks\n",
       "1       10<=t<40, p>=100, Palladium on activated carbon\n",
       "2     10<=t<40, 3.5<=p<100, Palladium on activated c...\n",
       "3     10<=t<40, 3.5<=p<100, Palladium on activated c...\n",
       "4     10<=t<40, 3.5<=p<100, Palladium on activated c...\n",
       "5     10<=t<40, 3.5<=p<100, Palladium on activated c...\n",
       "6     10<=t<40, 3.5<=p<100, Palladium on activated c...\n",
       "7     10<=t<40, 3.5<=p<100, Palladium on activated c...\n",
       "8     10<=t<40, 3.5<=p<100, Palladium on activated c...\n",
       "9     10<=t<40, 3.5<=p<100, Palladium on activated c...\n",
       "10    10<=t<40, 3.5<=p<100, Palladium on activated c...\n",
       "Name: 1339852, dtype: object"
      ]
     },
     "execution_count": 44,
     "metadata": {},
     "output_type": "execute_result"
    }
   ],
   "source": [
    "predictions.loc['1339852']"
   ]
  },
  {
   "cell_type": "markdown",
   "id": "0cbf68c1-d6af-45b1-9123-3ad3e048c980",
   "metadata": {},
   "source": [
    "## h-CVAE model (with Hyperspherical Uniform distribution)"
   ]
  },
  {
   "cell_type": "markdown",
   "id": "7f3858ea",
   "metadata": {},
   "source": [
    "### Build and fit model"
   ]
  },
  {
   "cell_type": "code",
   "execution_count": 45,
   "id": "da6e0cdc-6d64-4adf-a778-fd27da867ace",
   "metadata": {},
   "outputs": [],
   "source": [
    "h_model, decoder = get_h_model(\n",
    "    trained_emb_model_path='embedded_model.h5', \n",
    "    in_dim=100, \n",
    "    out_dim=365, adds_dim=131, catalyst_dim=227, pressure_dim=4, temperature_dim=3)"
   ]
  },
  {
   "cell_type": "code",
   "execution_count": 46,
   "id": "8a096f53-8868-40b9-9316-916200fccc55",
   "metadata": {},
   "outputs": [
    {
     "name": "stdout",
     "output_type": "stream",
     "text": [
      "Train on 394 samples\n",
      "394/394 [==============================] - 3s 6ms/sample - loss: 20.3497 - model_16_loss: 0.5130 - model_16_1_loss: 0.5444 - model_16_2_loss: 18.4815 - model_16_3_loss: 0.5345\n"
     ]
    },
    {
     "data": {
      "text/plain": [
       "<tensorflow.python.keras.callbacks.History at 0x7fb992fba278>"
      ]
     },
     "execution_count": 46,
     "metadata": {},
     "output_type": "execute_result"
    }
   ],
   "source": [
    "h_model.fit([X_train, y_train], \n",
    "                [y_train['t'], y_train['p'], \n",
    "                y_train['acids_bases_poisons'], y_train['catalysts']], \n",
    "                batch_size=10, epochs=1)"
   ]
  },
  {
   "cell_type": "markdown",
   "id": "7a53cd20",
   "metadata": {},
   "source": [
    "### Prediction"
   ]
  },
  {
   "cell_type": "code",
   "execution_count": 47,
   "id": "9ccaab88-5a48-406c-a2e3-ad9764011fd7",
   "metadata": {},
   "outputs": [
    {
     "name": "stdout",
     "output_type": "stream",
     "text": [
      "100/100"
     ]
    }
   ],
   "source": [
    "top_ans = generate_h(X, decoder, adds_dim=131, catalyst_dim=227, pressure_dim=4, temperature_dim=3, s=100, top_k=10)"
   ]
  },
  {
   "cell_type": "code",
   "execution_count": 48,
   "id": "7ca96d5f",
   "metadata": {},
   "outputs": [],
   "source": [
    "predictions = convert_predictions(\n",
    "    top_ans=top_ans,\n",
    "    X_test=X,\n",
    "    y_train_final_columns=y_train.columns,\n",
    "    id_field=\"Transformation_ID\"\n",
    ")"
   ]
  },
  {
   "cell_type": "code",
   "execution_count": 49,
   "id": "2720abef-3e30-4447-8df6-9e9ca1f0823f",
   "metadata": {},
   "outputs": [
    {
     "data": {
      "text/html": [
       "<div>\n",
       "<style scoped>\n",
       "    .dataframe tbody tr th:only-of-type {\n",
       "        vertical-align: middle;\n",
       "    }\n",
       "\n",
       "    .dataframe tbody tr th {\n",
       "        vertical-align: top;\n",
       "    }\n",
       "\n",
       "    .dataframe thead th {\n",
       "        text-align: right;\n",
       "    }\n",
       "</style>\n",
       "<table border=\"1\" class=\"dataframe\">\n",
       "  <thead>\n",
       "    <tr style=\"text-align: right;\">\n",
       "      <th>ranks</th>\n",
       "      <th>1</th>\n",
       "      <th>2</th>\n",
       "      <th>3</th>\n",
       "      <th>4</th>\n",
       "      <th>5</th>\n",
       "      <th>6</th>\n",
       "      <th>7</th>\n",
       "      <th>8</th>\n",
       "      <th>9</th>\n",
       "      <th>10</th>\n",
       "    </tr>\n",
       "    <tr>\n",
       "      <th>Transformation_ID</th>\n",
       "      <th></th>\n",
       "      <th></th>\n",
       "      <th></th>\n",
       "      <th></th>\n",
       "      <th></th>\n",
       "      <th></th>\n",
       "      <th></th>\n",
       "      <th></th>\n",
       "      <th></th>\n",
       "      <th></th>\n",
       "    </tr>\n",
       "  </thead>\n",
       "  <tbody>\n",
       "    <tr>\n",
       "      <th>1569</th>\n",
       "      <td>t&gt;=40, 3.5&lt;=p&lt;100, Palladium on activated carbon</td>\n",
       "      <td>t&gt;=40, p&gt;=100, Palladium on activated carbon</td>\n",
       "      <td>10&lt;=t&lt;40, 3.5&lt;=p&lt;100, Palladium on activated c...</td>\n",
       "      <td>10&lt;=t&lt;40, p&gt;=100, Palladium on activated carbon</td>\n",
       "      <td>10&lt;=t&lt;40, p&gt;=100, Palladium on activated carbon</td>\n",
       "      <td>10&lt;=t&lt;40, p&gt;=100, Palladium on activated carbon</td>\n",
       "      <td>10&lt;=t&lt;40, p&gt;=100, Palladium on activated carbon</td>\n",
       "      <td>10&lt;=t&lt;40, p&gt;=100, Palladium on activated carbon</td>\n",
       "      <td>10&lt;=t&lt;40, p&gt;=100, Palladium on activated carbon</td>\n",
       "      <td>10&lt;=t&lt;40, p&gt;=100, Palladium on activated carbon</td>\n",
       "    </tr>\n",
       "    <tr>\n",
       "      <th>3238</th>\n",
       "      <td>t&gt;=40, p&gt;=100, Palladium on activated carbon</td>\n",
       "      <td>t&gt;=40, p&gt;=100, Palladium on activated carbon</td>\n",
       "      <td>t&gt;=40, p&gt;=100, Palladium on activated carbon</td>\n",
       "      <td>t&gt;=40, p&gt;=100, Palladium on activated carbon</td>\n",
       "      <td>t&gt;=40, p&gt;=100, Palladium on activated carbon</td>\n",
       "      <td>t&gt;=40, p&gt;=100, Palladium on activated carbon</td>\n",
       "      <td>t&gt;=40, p&gt;=100, Palladium on activated carbon</td>\n",
       "      <td>t&gt;=40, p&gt;=100, Palladium on activated carbon</td>\n",
       "      <td>t&gt;=40, p&gt;=100, Palladium on activated carbon</td>\n",
       "      <td>t&gt;=40, p&gt;=100, Palladium on activated carbon</td>\n",
       "    </tr>\n",
       "    <tr>\n",
       "      <th>3257</th>\n",
       "      <td>10&lt;=t&lt;40, p&gt;=100, Palladium on activated carbon</td>\n",
       "      <td>10&lt;=t&lt;40, p&gt;=100, Palladium on activated carbon</td>\n",
       "      <td>10&lt;=t&lt;40, p&gt;=100, Palladium on activated carbon</td>\n",
       "      <td>10&lt;=t&lt;40, p&gt;=100, Palladium on activated carbon</td>\n",
       "      <td>10&lt;=t&lt;40, p&gt;=100, Palladium on activated carbon</td>\n",
       "      <td>10&lt;=t&lt;40, p&gt;=100, Palladium on activated carbon</td>\n",
       "      <td>10&lt;=t&lt;40, p&gt;=100, Palladium on activated carbon</td>\n",
       "      <td>10&lt;=t&lt;40, p&gt;=100, Palladium on activated carbon</td>\n",
       "      <td>10&lt;=t&lt;40, p&gt;=100, Palladium on activated carbon</td>\n",
       "      <td>10&lt;=t&lt;40, p&gt;=100, Palladium on activated carbon</td>\n",
       "    </tr>\n",
       "    <tr>\n",
       "      <th>3301</th>\n",
       "      <td>10&lt;=t&lt;40, p&gt;=100, Palladium on activated carbon</td>\n",
       "      <td>10&lt;=t&lt;40, p&gt;=100, Palladium on activated carbon</td>\n",
       "      <td>10&lt;=t&lt;40, p&gt;=100, Palladium on activated carbon</td>\n",
       "      <td>10&lt;=t&lt;40, p&gt;=100, Palladium on activated carbon</td>\n",
       "      <td>10&lt;=t&lt;40, p&gt;=100, Palladium on activated carbon</td>\n",
       "      <td>10&lt;=t&lt;40, p&gt;=100, Palladium on activated carbon</td>\n",
       "      <td>10&lt;=t&lt;40, p&gt;=100, Palladium on activated carbon</td>\n",
       "      <td>10&lt;=t&lt;40, p&gt;=100, Palladium on activated carbon</td>\n",
       "      <td>10&lt;=t&lt;40, p&gt;=100, Palladium on activated carbon</td>\n",
       "      <td>10&lt;=t&lt;40, p&gt;=100, Palladium on activated carbon</td>\n",
       "    </tr>\n",
       "    <tr>\n",
       "      <th>4747</th>\n",
       "      <td>t&gt;=40, 3.5&lt;=p&lt;100, Palladium on activated carbon</td>\n",
       "      <td>10&lt;=t&lt;40, 3.5&lt;=p&lt;100, Palladium on activated c...</td>\n",
       "      <td>10&lt;=t&lt;40, 3.5&lt;=p&lt;100, Palladium on activated c...</td>\n",
       "      <td>10&lt;=t&lt;40, 3.5&lt;=p&lt;100, Palladium on activated c...</td>\n",
       "      <td>10&lt;=t&lt;40, 3.5&lt;=p&lt;100, Palladium on activated c...</td>\n",
       "      <td>10&lt;=t&lt;40, 3.5&lt;=p&lt;100, Palladium on activated c...</td>\n",
       "      <td>10&lt;=t&lt;40, 3.5&lt;=p&lt;100, Palladium on activated c...</td>\n",
       "      <td>10&lt;=t&lt;40, 3.5&lt;=p&lt;100, Palladium on activated c...</td>\n",
       "      <td>10&lt;=t&lt;40, 3.5&lt;=p&lt;100, Palladium on activated c...</td>\n",
       "      <td>10&lt;=t&lt;40, 3.5&lt;=p&lt;100, Palladium on activated c...</td>\n",
       "    </tr>\n",
       "  </tbody>\n",
       "</table>\n",
       "</div>"
      ],
      "text/plain": [
       "ranks                                                            1   \\\n",
       "Transformation_ID                                                     \n",
       "1569               t>=40, 3.5<=p<100, Palladium on activated carbon   \n",
       "3238                   t>=40, p>=100, Palladium on activated carbon   \n",
       "3257                10<=t<40, p>=100, Palladium on activated carbon   \n",
       "3301                10<=t<40, p>=100, Palladium on activated carbon   \n",
       "4747               t>=40, 3.5<=p<100, Palladium on activated carbon   \n",
       "\n",
       "ranks                                                             2   \\\n",
       "Transformation_ID                                                      \n",
       "1569                    t>=40, p>=100, Palladium on activated carbon   \n",
       "3238                    t>=40, p>=100, Palladium on activated carbon   \n",
       "3257                 10<=t<40, p>=100, Palladium on activated carbon   \n",
       "3301                 10<=t<40, p>=100, Palladium on activated carbon   \n",
       "4747               10<=t<40, 3.5<=p<100, Palladium on activated c...   \n",
       "\n",
       "ranks                                                             3   \\\n",
       "Transformation_ID                                                      \n",
       "1569               10<=t<40, 3.5<=p<100, Palladium on activated c...   \n",
       "3238                    t>=40, p>=100, Palladium on activated carbon   \n",
       "3257                 10<=t<40, p>=100, Palladium on activated carbon   \n",
       "3301                 10<=t<40, p>=100, Palladium on activated carbon   \n",
       "4747               10<=t<40, 3.5<=p<100, Palladium on activated c...   \n",
       "\n",
       "ranks                                                             4   \\\n",
       "Transformation_ID                                                      \n",
       "1569                 10<=t<40, p>=100, Palladium on activated carbon   \n",
       "3238                    t>=40, p>=100, Palladium on activated carbon   \n",
       "3257                 10<=t<40, p>=100, Palladium on activated carbon   \n",
       "3301                 10<=t<40, p>=100, Palladium on activated carbon   \n",
       "4747               10<=t<40, 3.5<=p<100, Palladium on activated c...   \n",
       "\n",
       "ranks                                                             5   \\\n",
       "Transformation_ID                                                      \n",
       "1569                 10<=t<40, p>=100, Palladium on activated carbon   \n",
       "3238                    t>=40, p>=100, Palladium on activated carbon   \n",
       "3257                 10<=t<40, p>=100, Palladium on activated carbon   \n",
       "3301                 10<=t<40, p>=100, Palladium on activated carbon   \n",
       "4747               10<=t<40, 3.5<=p<100, Palladium on activated c...   \n",
       "\n",
       "ranks                                                             6   \\\n",
       "Transformation_ID                                                      \n",
       "1569                 10<=t<40, p>=100, Palladium on activated carbon   \n",
       "3238                    t>=40, p>=100, Palladium on activated carbon   \n",
       "3257                 10<=t<40, p>=100, Palladium on activated carbon   \n",
       "3301                 10<=t<40, p>=100, Palladium on activated carbon   \n",
       "4747               10<=t<40, 3.5<=p<100, Palladium on activated c...   \n",
       "\n",
       "ranks                                                             7   \\\n",
       "Transformation_ID                                                      \n",
       "1569                 10<=t<40, p>=100, Palladium on activated carbon   \n",
       "3238                    t>=40, p>=100, Palladium on activated carbon   \n",
       "3257                 10<=t<40, p>=100, Palladium on activated carbon   \n",
       "3301                 10<=t<40, p>=100, Palladium on activated carbon   \n",
       "4747               10<=t<40, 3.5<=p<100, Palladium on activated c...   \n",
       "\n",
       "ranks                                                             8   \\\n",
       "Transformation_ID                                                      \n",
       "1569                 10<=t<40, p>=100, Palladium on activated carbon   \n",
       "3238                    t>=40, p>=100, Palladium on activated carbon   \n",
       "3257                 10<=t<40, p>=100, Palladium on activated carbon   \n",
       "3301                 10<=t<40, p>=100, Palladium on activated carbon   \n",
       "4747               10<=t<40, 3.5<=p<100, Palladium on activated c...   \n",
       "\n",
       "ranks                                                             9   \\\n",
       "Transformation_ID                                                      \n",
       "1569                 10<=t<40, p>=100, Palladium on activated carbon   \n",
       "3238                    t>=40, p>=100, Palladium on activated carbon   \n",
       "3257                 10<=t<40, p>=100, Palladium on activated carbon   \n",
       "3301                 10<=t<40, p>=100, Palladium on activated carbon   \n",
       "4747               10<=t<40, 3.5<=p<100, Palladium on activated c...   \n",
       "\n",
       "ranks                                                             10  \n",
       "Transformation_ID                                                     \n",
       "1569                 10<=t<40, p>=100, Palladium on activated carbon  \n",
       "3238                    t>=40, p>=100, Palladium on activated carbon  \n",
       "3257                 10<=t<40, p>=100, Palladium on activated carbon  \n",
       "3301                 10<=t<40, p>=100, Palladium on activated carbon  \n",
       "4747               10<=t<40, 3.5<=p<100, Palladium on activated c...  "
      ]
     },
     "execution_count": 49,
     "metadata": {},
     "output_type": "execute_result"
    }
   ],
   "source": [
    "predictions.head()"
   ]
  },
  {
   "cell_type": "code",
   "execution_count": 50,
   "id": "c731dd05",
   "metadata": {},
   "outputs": [
    {
     "data": {
      "text/plain": [
       "ranks\n",
       "1      t>=40, 3.5<=p<100, Palladium on activated carbon\n",
       "2          t>=40, p>=100, Palladium on activated carbon\n",
       "3     10<=t<40, 3.5<=p<100, Palladium on activated c...\n",
       "4       10<=t<40, p>=100, Palladium on activated carbon\n",
       "5       10<=t<40, p>=100, Palladium on activated carbon\n",
       "6       10<=t<40, p>=100, Palladium on activated carbon\n",
       "7       10<=t<40, p>=100, Palladium on activated carbon\n",
       "8       10<=t<40, p>=100, Palladium on activated carbon\n",
       "9       10<=t<40, p>=100, Palladium on activated carbon\n",
       "10      10<=t<40, p>=100, Palladium on activated carbon\n",
       "Name: 1569, dtype: object"
      ]
     },
     "execution_count": 50,
     "metadata": {},
     "output_type": "execute_result"
    }
   ],
   "source": [
    "predictions.loc['1569']"
   ]
  },
  {
   "cell_type": "code",
   "execution_count": null,
   "id": "054268f2",
   "metadata": {},
   "outputs": [],
   "source": []
  }
 ],
 "metadata": {
  "kernelspec": {
   "display_name": "venv_rc_cvae",
   "language": "python",
   "name": "python3"
  },
  "language_info": {
   "codemirror_mode": {
    "name": "ipython",
    "version": 3
   },
   "file_extension": ".py",
   "mimetype": "text/x-python",
   "name": "python",
   "nbconvert_exporter": "python",
   "pygments_lexer": "ipython3",
   "version": "3.6.13"
  }
 },
 "nbformat": 4,
 "nbformat_minor": 5
}
